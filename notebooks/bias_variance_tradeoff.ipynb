{
 "cells": [
  {
   "cell_type": "code",
   "execution_count": 9,
   "metadata": {
    "collapsed": true
   },
   "outputs": [],
   "source": [
    "import pandas as pd\n",
    "from sklearn.pipeline import Pipeline\n",
    "from sklearn.compose import ColumnTransformer\n",
    "from utilities.evaluation import ModelEvaluation\n",
    "from sklearn.tree import DecisionTreeClassifier\n",
    "from mlxtend.evaluate import bias_variance_decomp\n",
    "from sklearn.linear_model import LogisticRegression\n",
    "from sklearn.preprocessing import StandardScaler, OneHotEncoder\n",
    "from sklearn.model_selection import train_test_split, cross_val_score"
   ]
  },
  {
   "cell_type": "code",
   "execution_count": 2,
   "outputs": [
    {
     "data": {
      "text/plain": "           CustomerId          Surname  CreditScore Geography  Gender  Age  \\\nRowNumber                                                                    \n8660         15770631       Sutherland          730     Spain    Male   25   \n4403         15720637             Bell          710   Germany  Female   46   \n7005         15571121  Kodilinyechukwu          670    France  Female   50   \n5945         15715709             Shih          696   Germany    Male   43   \n\n           Tenure    Balance  NumOfProducts HasCrCard IsActiveMember  \\\nRowNumber                                                              \n8660            5  167385.81              1       Yes            Yes   \n4403           10  120530.34              1       Yes             No   \n7005            8  138340.06              1        No            Yes   \n5945            4  114091.38              1        No            Yes   \n\n           EstimatedSalary  Exited  \nRowNumber                           \n8660              56307.51       0  \n4403             166586.99       1  \n7005               3159.15       0  \n5945             159888.10       0  ",
      "text/html": "<div>\n<style scoped>\n    .dataframe tbody tr th:only-of-type {\n        vertical-align: middle;\n    }\n\n    .dataframe tbody tr th {\n        vertical-align: top;\n    }\n\n    .dataframe thead th {\n        text-align: right;\n    }\n</style>\n<table border=\"1\" class=\"dataframe\">\n  <thead>\n    <tr style=\"text-align: right;\">\n      <th></th>\n      <th>CustomerId</th>\n      <th>Surname</th>\n      <th>CreditScore</th>\n      <th>Geography</th>\n      <th>Gender</th>\n      <th>Age</th>\n      <th>Tenure</th>\n      <th>Balance</th>\n      <th>NumOfProducts</th>\n      <th>HasCrCard</th>\n      <th>IsActiveMember</th>\n      <th>EstimatedSalary</th>\n      <th>Exited</th>\n    </tr>\n    <tr>\n      <th>RowNumber</th>\n      <th></th>\n      <th></th>\n      <th></th>\n      <th></th>\n      <th></th>\n      <th></th>\n      <th></th>\n      <th></th>\n      <th></th>\n      <th></th>\n      <th></th>\n      <th></th>\n      <th></th>\n    </tr>\n  </thead>\n  <tbody>\n    <tr>\n      <th>8660</th>\n      <td>15770631</td>\n      <td>Sutherland</td>\n      <td>730</td>\n      <td>Spain</td>\n      <td>Male</td>\n      <td>25</td>\n      <td>5</td>\n      <td>167385.81</td>\n      <td>1</td>\n      <td>Yes</td>\n      <td>Yes</td>\n      <td>56307.51</td>\n      <td>0</td>\n    </tr>\n    <tr>\n      <th>4403</th>\n      <td>15720637</td>\n      <td>Bell</td>\n      <td>710</td>\n      <td>Germany</td>\n      <td>Female</td>\n      <td>46</td>\n      <td>10</td>\n      <td>120530.34</td>\n      <td>1</td>\n      <td>Yes</td>\n      <td>No</td>\n      <td>166586.99</td>\n      <td>1</td>\n    </tr>\n    <tr>\n      <th>7005</th>\n      <td>15571121</td>\n      <td>Kodilinyechukwu</td>\n      <td>670</td>\n      <td>France</td>\n      <td>Female</td>\n      <td>50</td>\n      <td>8</td>\n      <td>138340.06</td>\n      <td>1</td>\n      <td>No</td>\n      <td>Yes</td>\n      <td>3159.15</td>\n      <td>0</td>\n    </tr>\n    <tr>\n      <th>5945</th>\n      <td>15715709</td>\n      <td>Shih</td>\n      <td>696</td>\n      <td>Germany</td>\n      <td>Male</td>\n      <td>43</td>\n      <td>4</td>\n      <td>114091.38</td>\n      <td>1</td>\n      <td>No</td>\n      <td>Yes</td>\n      <td>159888.10</td>\n      <td>0</td>\n    </tr>\n  </tbody>\n</table>\n</div>"
     },
     "execution_count": 2,
     "metadata": {},
     "output_type": "execute_result"
    }
   ],
   "source": [
    "churn = pd.read_csv('https://raw.githubusercontent.com/stivenlopezg/Diplomado-Python/master/data/Churn_Modelling.csv',\n",
    "                    index_col=0)\n",
    "\n",
    "for column in ['HasCrCard', 'IsActiveMember']:\n",
    "    churn[column] = churn[column].map({1: 'Yes', 0: 'No'})\n",
    "\n",
    "churn.sample(n=4)"
   ],
   "metadata": {
    "collapsed": false,
    "pycharm": {
     "name": "#%%\n"
    }
   }
  },
  {
   "cell_type": "code",
   "execution_count": 3,
   "outputs": [
    {
     "name": "stdout",
     "output_type": "stream",
     "text": [
      "<class 'pandas.core.frame.DataFrame'>\n",
      "Int64Index: 10000 entries, 1 to 10000\n",
      "Data columns (total 13 columns):\n",
      " #   Column           Non-Null Count  Dtype  \n",
      "---  ------           --------------  -----  \n",
      " 0   CustomerId       10000 non-null  int64  \n",
      " 1   Surname          10000 non-null  object \n",
      " 2   CreditScore      10000 non-null  int64  \n",
      " 3   Geography        10000 non-null  object \n",
      " 4   Gender           10000 non-null  object \n",
      " 5   Age              10000 non-null  int64  \n",
      " 6   Tenure           10000 non-null  int64  \n",
      " 7   Balance          10000 non-null  float64\n",
      " 8   NumOfProducts    10000 non-null  int64  \n",
      " 9   HasCrCard        10000 non-null  object \n",
      " 10  IsActiveMember   10000 non-null  object \n",
      " 11  EstimatedSalary  10000 non-null  float64\n",
      " 12  Exited           10000 non-null  int64  \n",
      "dtypes: float64(2), int64(6), object(5)\n",
      "memory usage: 1.1+ MB\n"
     ]
    }
   ],
   "source": [
    "churn.info()"
   ],
   "metadata": {
    "collapsed": false,
    "pycharm": {
     "name": "#%%\n"
    }
   }
  },
  {
   "cell_type": "code",
   "execution_count": 5,
   "outputs": [
    {
     "data": {
      "text/plain": "0    0.7963\n1    0.2037\nName: Exited, dtype: float64"
     },
     "execution_count": 5,
     "metadata": {},
     "output_type": "execute_result"
    }
   ],
   "source": [
    "churn['Exited'].value_counts(normalize=True)"
   ],
   "metadata": {
    "collapsed": false,
    "pycharm": {
     "name": "#%%\n"
    }
   }
  },
  {
   "cell_type": "code",
   "execution_count": 6,
   "outputs": [
    {
     "name": "stdout",
     "output_type": "stream",
     "text": [
      "El set de entrenamiento tiene 7000 observaciones, y 12 variables.\n",
      "El set de prueba tiene 3000 observaciones, y 12 variables.\n"
     ]
    }
   ],
   "source": [
    "exited = churn.pop('Exited')\n",
    "\n",
    "train_data, test_data, train_label, test_label = train_test_split(churn, exited,\n",
    "                                                                  test_size=0.3,\n",
    "                                                                  stratify=exited, random_state=42)\n",
    "\n",
    "print(f'El set de entrenamiento tiene {train_data.shape[0]} observaciones, y {train_data.shape[1]} variables.')\n",
    "print(f'El set de prueba tiene {test_data.shape[0]} observaciones, y {test_data.shape[1]} variables.')"
   ],
   "metadata": {
    "collapsed": false,
    "pycharm": {
     "name": "#%%\n"
    }
   }
  },
  {
   "cell_type": "code",
   "execution_count": 7,
   "outputs": [],
   "source": [
    "numerical_features = ['CreditScore', 'Age', 'Tenure',\n",
    "                      'Balance', 'NumOfProducts', 'EstimatedSalary']\n",
    "\n",
    "categorical_features = ['Gender', 'Geography', 'HasCrCard', 'IsActiveMember']"
   ],
   "metadata": {
    "collapsed": false,
    "pycharm": {
     "name": "#%%\n"
    }
   }
  },
  {
   "cell_type": "code",
   "execution_count": 10,
   "outputs": [
    {
     "name": "stdout",
     "output_type": "stream",
     "text": [
      "[-0.57558225 -1.79667873 -0.34947397  0.31290573 -0.91248301  1.36251232]\n",
      "[ 1.44446154 -0.18899111  0.34216239 -1.22357411  0.79949262  0.34845313]\n"
     ]
    }
   ],
   "source": [
    "numeric_preprocessing = ColumnTransformer(transformers=[('numeric', StandardScaler(), numerical_features)],\n",
    "                                          remainder='drop')\n",
    "\n",
    "X_train = numeric_preprocessing.fit_transform(train_data)\n",
    "X_test = numeric_preprocessing.transform(test_data)\n",
    "\n",
    "print(X_train[0])\n",
    "print(X_test[0])"
   ],
   "metadata": {
    "collapsed": false,
    "pycharm": {
     "name": "#%%\n"
    }
   }
  },
  {
   "cell_type": "code",
   "execution_count": 11,
   "outputs": [
    {
     "name": "stdout",
     "output_type": "stream",
     "text": [
      "El promedio de la perdida esperada es: 0.21257666666666666\n",
      "El promedio del sesgo: 0.213\n",
      "E promedio de la varianza: 0.00556\n"
     ]
    }
   ],
   "source": [
    "lr = LogisticRegression(random_state=42)\n",
    "\n",
    "avg_expected_loss, avg_bias, avg_var = bias_variance_decomp(estimator=lr,\n",
    "                                                            X_train=X_train,\n",
    "                                                            y_train=train_label.values,\n",
    "                                                            X_test=X_test,\n",
    "                                                            y_test=test_label.values,\n",
    "                                                            loss='0-1_loss',\n",
    "                                                            random_seed=123)\n",
    "\n",
    "print(f'El promedio de la perdida esperada es: {avg_expected_loss}')\n",
    "print(f'El promedio del sesgo: {avg_bias}')\n",
    "print(f'E promedio de la varianza: {avg_var}')"
   ],
   "metadata": {
    "collapsed": false,
    "pycharm": {
     "name": "#%%\n"
    }
   }
  },
  {
   "cell_type": "code",
   "execution_count": 12,
   "outputs": [
    {
     "name": "stdout",
     "output_type": "stream",
     "text": [
      "El AUC es: 0.51\n",
      "El accuracy es: 0.79\n",
      "La precision es: 0.71\n",
      "El recall es: 0.79\n",
      "El F1 Score es: 0.72 \n",
      "\n"
     ]
    },
    {
     "data": {
      "text/plain": "Predicted     0   1\nObserved           \n0          2330  59\n1           581  30",
      "text/html": "<div>\n<style scoped>\n    .dataframe tbody tr th:only-of-type {\n        vertical-align: middle;\n    }\n\n    .dataframe tbody tr th {\n        vertical-align: top;\n    }\n\n    .dataframe thead th {\n        text-align: right;\n    }\n</style>\n<table border=\"1\" class=\"dataframe\">\n  <thead>\n    <tr style=\"text-align: right;\">\n      <th>Predicted</th>\n      <th>0</th>\n      <th>1</th>\n    </tr>\n    <tr>\n      <th>Observed</th>\n      <th></th>\n      <th></th>\n    </tr>\n  </thead>\n  <tbody>\n    <tr>\n      <th>0</th>\n      <td>2330</td>\n      <td>59</td>\n    </tr>\n    <tr>\n      <th>1</th>\n      <td>581</td>\n      <td>30</td>\n    </tr>\n  </tbody>\n</table>\n</div>"
     },
     "execution_count": 12,
     "metadata": {},
     "output_type": "execute_result"
    }
   ],
   "source": [
    "lr.fit(X_train, train_label)\n",
    "\n",
    "evaluation_lr = ModelEvaluation(observed=test_label, predicted=lr.predict(X_test))\n",
    "evaluation_lr.calculate_metrics()\n",
    "evaluation_lr.print_metrics()\n",
    "evaluation_lr.confusion_matrix(normalize=False)"
   ],
   "metadata": {
    "collapsed": false,
    "pycharm": {
     "name": "#%%\n"
    }
   }
  },
  {
   "cell_type": "code",
   "execution_count": 13,
   "outputs": [
    {
     "name": "stdout",
     "output_type": "stream",
     "text": [
      "[-0.57558225 -1.79667873 -0.34947397  0.31290573 -0.91248301  1.36251232\n",
      "  0.          1.          1.          0.          0.          0.\n",
      "  1.          1.          0.        ]\n",
      "[ 1.44446154 -0.18899111  0.34216239 -1.22357411  0.79949262  0.34845313\n",
      "  0.          1.          0.          0.          1.          0.\n",
      "  1.          0.          1.        ]\n"
     ]
    }
   ],
   "source": [
    "preprocessing = ColumnTransformer(transformers=[\n",
    "    ('numeric', StandardScaler(), numerical_features),\n",
    "    ('categoric', OneHotEncoder(handle_unknown='ignore', sparse=False), categorical_features)],\n",
    "remainder='drop')\n",
    "\n",
    "X_train = preprocessing.fit_transform(train_data)\n",
    "X_test = preprocessing.transform(test_data)\n",
    "\n",
    "print(X_train[0])\n",
    "print(X_test[0])"
   ],
   "metadata": {
    "collapsed": false,
    "pycharm": {
     "name": "#%%\n"
    }
   }
  },
  {
   "cell_type": "code",
   "execution_count": 14,
   "outputs": [
    {
     "name": "stdout",
     "output_type": "stream",
     "text": [
      "El promedio de la perdida esperada es: 0.18679833333333334\n",
      "El promedio del sesgo: 0.187\n",
      "E promedio de la varianza: 0.010598333333333335\n"
     ]
    }
   ],
   "source": [
    "lr = LogisticRegression(random_state=42)\n",
    "\n",
    "avg_expected_loss, avg_bias, avg_var = bias_variance_decomp(estimator=lr,\n",
    "                                                            X_train=X_train,\n",
    "                                                            y_train=train_label.values,\n",
    "                                                            X_test=X_test,\n",
    "                                                            y_test=test_label.values,\n",
    "                                                            loss='0-1_loss',\n",
    "                                                            random_seed=123)\n",
    "\n",
    "print(f'El promedio de la perdida esperada es: {avg_expected_loss}')\n",
    "print(f'El promedio del sesgo: {avg_bias}')\n",
    "print(f'E promedio de la varianza: {avg_var}')"
   ],
   "metadata": {
    "collapsed": false,
    "pycharm": {
     "name": "#%%\n"
    }
   }
  },
  {
   "cell_type": "code",
   "execution_count": 15,
   "outputs": [
    {
     "name": "stdout",
     "output_type": "stream",
     "text": [
      "El AUC es: 0.58\n",
      "El accuracy es: 0.81\n",
      "La precision es: 0.79\n",
      "El recall es: 0.81\n",
      "El F1 Score es: 0.77 \n",
      "\n"
     ]
    },
    {
     "data": {
      "text/plain": "Predicted     0    1\nObserved            \n0          2318   71\n1           491  120",
      "text/html": "<div>\n<style scoped>\n    .dataframe tbody tr th:only-of-type {\n        vertical-align: middle;\n    }\n\n    .dataframe tbody tr th {\n        vertical-align: top;\n    }\n\n    .dataframe thead th {\n        text-align: right;\n    }\n</style>\n<table border=\"1\" class=\"dataframe\">\n  <thead>\n    <tr style=\"text-align: right;\">\n      <th>Predicted</th>\n      <th>0</th>\n      <th>1</th>\n    </tr>\n    <tr>\n      <th>Observed</th>\n      <th></th>\n      <th></th>\n    </tr>\n  </thead>\n  <tbody>\n    <tr>\n      <th>0</th>\n      <td>2318</td>\n      <td>71</td>\n    </tr>\n    <tr>\n      <th>1</th>\n      <td>491</td>\n      <td>120</td>\n    </tr>\n  </tbody>\n</table>\n</div>"
     },
     "execution_count": 15,
     "metadata": {},
     "output_type": "execute_result"
    }
   ],
   "source": [
    "lr.fit(X_train, train_label)\n",
    "\n",
    "evaluation_lr = ModelEvaluation(observed=test_label, predicted=lr.predict(X_test))\n",
    "evaluation_lr.calculate_metrics()\n",
    "evaluation_lr.print_metrics()\n",
    "evaluation_lr.confusion_matrix(normalize=False)"
   ],
   "metadata": {
    "collapsed": false,
    "pycharm": {
     "name": "#%%\n"
    }
   }
  },
  {
   "cell_type": "code",
   "execution_count": null,
   "outputs": [],
   "source": [],
   "metadata": {
    "collapsed": false,
    "pycharm": {
     "name": "#%%\n"
    }
   }
  }
 ],
 "metadata": {
  "kernelspec": {
   "display_name": "Python 3",
   "language": "python",
   "name": "python3"
  },
  "language_info": {
   "codemirror_mode": {
    "name": "ipython",
    "version": 2
   },
   "file_extension": ".py",
   "mimetype": "text/x-python",
   "name": "python",
   "nbconvert_exporter": "python",
   "pygments_lexer": "ipython2",
   "version": "2.7.6"
  }
 },
 "nbformat": 4,
 "nbformat_minor": 0
}