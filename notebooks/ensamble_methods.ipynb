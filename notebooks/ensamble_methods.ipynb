{
 "cells": [
  {
   "cell_type": "code",
   "execution_count": 15,
   "outputs": [],
   "source": [
    "import shap\n",
    "import joblib\n",
    "import warnings\n",
    "import pandas as pd\n",
    "import seaborn as sns\n",
    "from pdpbox import pdp\n",
    "from sklearn.svm import SVC\n",
    "from sklearn import set_config\n",
    "import matplotlib.pyplot as plt\n",
    "from xgboost import XGBClassifier\n",
    "from sklearn.pipeline import Pipeline\n",
    "from sklearn.impute import SimpleImputer\n",
    "from sklearn.ensemble import VotingClassifier\n",
    "from sklearn.compose import ColumnTransformer\n",
    "from sklearn.tree import DecisionTreeClassifier\n",
    "from utilities.evaluation import ModelEvaluation\n",
    "from sklearn.linear_model import LogisticRegression\n",
    "from sklearn.preprocessing import StandardScaler, OneHotEncoder, PolynomialFeatures\n",
    "from sklearn.model_selection import train_test_split, cross_val_score, cross_val_predict\n",
    "\n",
    "set_config(display='diagram')\n",
    "\n",
    "pd.set_option('float_format', '{:.2f}'.format)\n",
    "warnings.filterwarnings(action='ignore')"
   ],
   "metadata": {
    "collapsed": false,
    "pycharm": {
     "name": "#%%\n"
    }
   }
  },
  {
   "cell_type": "code",
   "execution_count": 16,
   "outputs": [
    {
     "data": {
      "text/plain": "      CustomerId   Surname  CreditScore Geography  Gender  Age  Tenure  \\\n2486    15745001   Kovalev          683     Spain  Female   36       7   \n1910    15811261    Alaniz          617     Spain    Male   42       0   \n4189    15759499  Gardiner          598    France  Female   32       4   \n3099    15708196   Uchenna          696     Spain    Male   60       8   \n\n       Balance  NumOfProducts HasCrCard IsActiveMember  EstimatedSalary  \\\n2486      0.00              2       Yes             No        104786.59   \n1910  70105.87              1       Yes            Yes        120830.73   \n4189 111156.52              1       Yes            Yes        167376.26   \n3099  88786.81              1       Yes            Yes        196858.40   \n\n      Exited  \n2486       0  \n1910       0  \n4189       0  \n3099       0  ",
      "text/html": "<div>\n<style scoped>\n    .dataframe tbody tr th:only-of-type {\n        vertical-align: middle;\n    }\n\n    .dataframe tbody tr th {\n        vertical-align: top;\n    }\n\n    .dataframe thead th {\n        text-align: right;\n    }\n</style>\n<table border=\"1\" class=\"dataframe\">\n  <thead>\n    <tr style=\"text-align: right;\">\n      <th></th>\n      <th>CustomerId</th>\n      <th>Surname</th>\n      <th>CreditScore</th>\n      <th>Geography</th>\n      <th>Gender</th>\n      <th>Age</th>\n      <th>Tenure</th>\n      <th>Balance</th>\n      <th>NumOfProducts</th>\n      <th>HasCrCard</th>\n      <th>IsActiveMember</th>\n      <th>EstimatedSalary</th>\n      <th>Exited</th>\n    </tr>\n  </thead>\n  <tbody>\n    <tr>\n      <th>2486</th>\n      <td>15745001</td>\n      <td>Kovalev</td>\n      <td>683</td>\n      <td>Spain</td>\n      <td>Female</td>\n      <td>36</td>\n      <td>7</td>\n      <td>0.00</td>\n      <td>2</td>\n      <td>Yes</td>\n      <td>No</td>\n      <td>104786.59</td>\n      <td>0</td>\n    </tr>\n    <tr>\n      <th>1910</th>\n      <td>15811261</td>\n      <td>Alaniz</td>\n      <td>617</td>\n      <td>Spain</td>\n      <td>Male</td>\n      <td>42</td>\n      <td>0</td>\n      <td>70105.87</td>\n      <td>1</td>\n      <td>Yes</td>\n      <td>Yes</td>\n      <td>120830.73</td>\n      <td>0</td>\n    </tr>\n    <tr>\n      <th>4189</th>\n      <td>15759499</td>\n      <td>Gardiner</td>\n      <td>598</td>\n      <td>France</td>\n      <td>Female</td>\n      <td>32</td>\n      <td>4</td>\n      <td>111156.52</td>\n      <td>1</td>\n      <td>Yes</td>\n      <td>Yes</td>\n      <td>167376.26</td>\n      <td>0</td>\n    </tr>\n    <tr>\n      <th>3099</th>\n      <td>15708196</td>\n      <td>Uchenna</td>\n      <td>696</td>\n      <td>Spain</td>\n      <td>Male</td>\n      <td>60</td>\n      <td>8</td>\n      <td>88786.81</td>\n      <td>1</td>\n      <td>Yes</td>\n      <td>Yes</td>\n      <td>196858.40</td>\n      <td>0</td>\n    </tr>\n  </tbody>\n</table>\n</div>"
     },
     "execution_count": 16,
     "metadata": {},
     "output_type": "execute_result"
    }
   ],
   "source": [
    "churn = pd.read_csv('../data/churn-modeling.csv', sep=';')\n",
    "churn.sample(n=4)"
   ],
   "metadata": {
    "collapsed": false,
    "pycharm": {
     "name": "#%%\n"
    }
   }
  },
  {
   "cell_type": "markdown",
   "source": [
    "## Validación cruzada"
   ],
   "metadata": {
    "collapsed": false
   }
  },
  {
   "cell_type": "code",
   "execution_count": 17,
   "outputs": [
    {
     "name": "stdout",
     "output_type": "stream",
     "text": [
      "El set de entrenamiento tiene 7000 observaciones, y 12 variables.\n",
      "El set de prueba tiene 3000 observaciones, y 12 variables.\n"
     ]
    }
   ],
   "source": [
    "exited = churn.pop('Exited')\n",
    "\n",
    "train_data, test_data, train_label, test_label = train_test_split(churn, exited,\n",
    "                                                                  test_size=0.3,\n",
    "                                                                  stratify=exited, random_state=42)\n",
    "\n",
    "print(f'El set de entrenamiento tiene {train_data.shape[0]} observaciones, y {train_data.shape[1]} variables.')\n",
    "print(f'El set de prueba tiene {test_data.shape[0]} observaciones, y {test_data.shape[1]} variables.')"
   ],
   "metadata": {
    "collapsed": false,
    "pycharm": {
     "name": "#%%\n"
    }
   }
  },
  {
   "cell_type": "code",
   "execution_count": 18,
   "outputs": [],
   "source": [
    "numerical_features = ['CreditScore', 'Age', 'Tenure',\n",
    "                      'Balance', 'NumOfProducts', 'EstimatedSalary']\n",
    "\n",
    "categorical_features = ['Gender', 'Geography', 'HasCrCard', 'IsActiveMember']"
   ],
   "metadata": {
    "collapsed": false,
    "pycharm": {
     "name": "#%%\n"
    }
   }
  },
  {
   "cell_type": "code",
   "execution_count": 19,
   "outputs": [],
   "source": [
    "numeric_preprocessing = Pipeline(steps=[('imputer', SimpleImputer(strategy='median')),\n",
    "                                        ('scaler', StandardScaler())])\n",
    "\n",
    "categoric_preprocessing = Pipeline(steps=[('cat_imputer', SimpleImputer(strategy='most_frequent')),\n",
    "                                          ('ohe', OneHotEncoder(handle_unknown='ignore', sparse=False))])\n",
    "\n",
    "preprocessing = ColumnTransformer(transformers=[('numeric', numeric_preprocessing, numerical_features),\n",
    "                                                ('categorical', categoric_preprocessing, categorical_features)],\n",
    "                                  remainder='drop')"
   ],
   "metadata": {
    "collapsed": false,
    "pycharm": {
     "name": "#%%\n"
    }
   }
  },
  {
   "cell_type": "code",
   "execution_count": 20,
   "outputs": [],
   "source": [
    "lr = Pipeline(steps=[('preprocessing', preprocessing),\n",
    "                     ('logistic_regression', LogisticRegression(penalty='l1', solver='saga',\n",
    "                                                                class_weight='balanced', random_state=42, n_jobs=-1))])\n",
    "\n",
    "dtree = Pipeline(steps=[('preprocessing', preprocessing),\n",
    "                        ('dtree', DecisionTreeClassifier(max_depth=4,\n",
    "                                                         class_weight='balanced', random_state=42))])\n",
    "\n",
    "svm = Pipeline(steps=[('preprocessing', preprocessing),\n",
    "                      ('svm', SVC(probability=True,\n",
    "                                  class_weight='balanced', random_state=42))])"
   ],
   "metadata": {
    "collapsed": false,
    "pycharm": {
     "name": "#%%\n"
    }
   }
  },
  {
   "cell_type": "code",
   "execution_count": 21,
   "outputs": [],
   "source": [
    "roc = {}\n",
    "f1_score = {}\n",
    "\n",
    "roc['logistic_regression'] = cross_val_score(estimator=lr,\n",
    "                                             X=train_data, y=train_label, scoring='roc_auc', cv=5, n_jobs=-1)\n",
    "roc['decision_tree'] = cross_val_score(estimator=dtree,\n",
    "                                       X=train_data, y=train_label, scoring='roc_auc', cv=5, n_jobs=-1)\n",
    "roc['svm'] = cross_val_score(estimator=svm,\n",
    "                             X=train_data, y=train_label, scoring='roc_auc', cv=5, n_jobs=-1)\n",
    "\n",
    "# --------------------------------------------------------------------------------------------------------------\n",
    "\n",
    "f1_score['logistic_regression'] = cross_val_score(estimator=lr,\n",
    "                                                  X=train_data, y=train_label, scoring='f1', cv=5, n_jobs=-1)\n",
    "f1_score['decision_tree'] = cross_val_score(estimator=dtree,\n",
    "                                            X=train_data, y=train_label, scoring='f1', cv=5, n_jobs=-1)\n",
    "f1_score['svm'] = cross_val_score(estimator=svm,\n",
    "                                  X=train_data, y=train_label, scoring='f1', cv=5, n_jobs=-1)"
   ],
   "metadata": {
    "collapsed": false,
    "pycharm": {
     "name": "#%%\n"
    }
   }
  },
  {
   "cell_type": "code",
   "execution_count": 22,
   "outputs": [],
   "source": [
    "roc = pd.DataFrame.from_dict(roc)\n",
    "f1_score = pd.DataFrame.from_dict(f1_score)"
   ],
   "metadata": {
    "collapsed": false,
    "pycharm": {
     "name": "#%%\n"
    }
   }
  },
  {
   "cell_type": "code",
   "execution_count": 23,
   "outputs": [],
   "source": [
    "valor_medio = pd.concat(objs=[pd.DataFrame(roc.mean(), columns=['roc_auc']),\n",
    "                              pd.DataFrame(f1_score.mean(), columns=['f1_score'])], axis=1)"
   ],
   "metadata": {
    "collapsed": false,
    "pycharm": {
     "name": "#%%\n"
    }
   }
  },
  {
   "cell_type": "code",
   "execution_count": 24,
   "outputs": [],
   "source": [
    "std = pd.concat(objs=[pd.DataFrame(roc.std(), columns=['roc_auc_std']),\n",
    "                      pd.DataFrame(f1_score.std(), columns=['f1_score_std'])], axis=1)"
   ],
   "metadata": {
    "collapsed": false,
    "pycharm": {
     "name": "#%%\n"
    }
   }
  },
  {
   "cell_type": "code",
   "execution_count": 25,
   "outputs": [
    {
     "data": {
      "text/plain": "                     roc_auc  f1_score  roc_auc_std  f1_score_std\nlogistic_regression     0.76      0.48         0.02          0.01\ndecision_tree           0.81      0.52         0.01          0.01\nsvm                     0.85      0.58         0.01          0.01",
      "text/html": "<div>\n<style scoped>\n    .dataframe tbody tr th:only-of-type {\n        vertical-align: middle;\n    }\n\n    .dataframe tbody tr th {\n        vertical-align: top;\n    }\n\n    .dataframe thead th {\n        text-align: right;\n    }\n</style>\n<table border=\"1\" class=\"dataframe\">\n  <thead>\n    <tr style=\"text-align: right;\">\n      <th></th>\n      <th>roc_auc</th>\n      <th>f1_score</th>\n      <th>roc_auc_std</th>\n      <th>f1_score_std</th>\n    </tr>\n  </thead>\n  <tbody>\n    <tr>\n      <th>logistic_regression</th>\n      <td>0.76</td>\n      <td>0.48</td>\n      <td>0.02</td>\n      <td>0.01</td>\n    </tr>\n    <tr>\n      <th>decision_tree</th>\n      <td>0.81</td>\n      <td>0.52</td>\n      <td>0.01</td>\n      <td>0.01</td>\n    </tr>\n    <tr>\n      <th>svm</th>\n      <td>0.85</td>\n      <td>0.58</td>\n      <td>0.01</td>\n      <td>0.01</td>\n    </tr>\n  </tbody>\n</table>\n</div>"
     },
     "execution_count": 25,
     "metadata": {},
     "output_type": "execute_result"
    }
   ],
   "source": [
    "resultados = pd.concat(objs=[valor_medio, std], axis=1)\n",
    "resultados"
   ],
   "metadata": {
    "collapsed": false,
    "pycharm": {
     "name": "#%%\n"
    }
   }
  },
  {
   "cell_type": "code",
   "execution_count": 33,
   "outputs": [],
   "source": [
    "lr.fit(train_data, train_label)\n",
    "dtree.fit(train_data, train_label)\n",
    "svm.fit(train_data, train_label)\n",
    "\n",
    "predictions = {}\n",
    "\n",
    "predictions['lr'] = cross_val_predict(estimator=lr,\n",
    "                                      X=test_data, y=test_label, cv=5, n_jobs=-1, method='predict_proba')[:, 1]\n",
    "\n",
    "predictions['dtree'] = cross_val_predict(estimator=dtree,\n",
    "                                      X=test_data, y=test_label, cv=5, n_jobs=-1, method='predict_proba')[:, 1]\n",
    "\n",
    "predictions['svm'] = cross_val_predict(estimator=svm,\n",
    "                                      X=test_data, y=test_label, cv=5, n_jobs=-1, method='predict_proba')[:, 1]\n",
    "\n",
    "predictions = pd.DataFrame.from_dict(predictions)"
   ],
   "metadata": {
    "collapsed": false,
    "pycharm": {
     "name": "#%%\n"
    }
   }
  },
  {
   "cell_type": "code",
   "execution_count": 34,
   "outputs": [
    {
     "data": {
      "text/plain": "       lr  dtree  svm\n0    0.14   0.05 0.02\n1    0.36   0.47 0.08\n2    0.60   0.05 0.12\n3    0.40   0.05 0.06\n4    0.65   0.70 0.69\n...   ...    ...  ...\n2995 0.93   0.67 0.30\n2996 0.40   0.47 0.43\n2997 0.69   0.27 0.56\n2998 0.57   0.47 0.40\n2999 0.06   0.04 0.04\n\n[3000 rows x 3 columns]",
      "text/html": "<div>\n<style scoped>\n    .dataframe tbody tr th:only-of-type {\n        vertical-align: middle;\n    }\n\n    .dataframe tbody tr th {\n        vertical-align: top;\n    }\n\n    .dataframe thead th {\n        text-align: right;\n    }\n</style>\n<table border=\"1\" class=\"dataframe\">\n  <thead>\n    <tr style=\"text-align: right;\">\n      <th></th>\n      <th>lr</th>\n      <th>dtree</th>\n      <th>svm</th>\n    </tr>\n  </thead>\n  <tbody>\n    <tr>\n      <th>0</th>\n      <td>0.14</td>\n      <td>0.05</td>\n      <td>0.02</td>\n    </tr>\n    <tr>\n      <th>1</th>\n      <td>0.36</td>\n      <td>0.47</td>\n      <td>0.08</td>\n    </tr>\n    <tr>\n      <th>2</th>\n      <td>0.60</td>\n      <td>0.05</td>\n      <td>0.12</td>\n    </tr>\n    <tr>\n      <th>3</th>\n      <td>0.40</td>\n      <td>0.05</td>\n      <td>0.06</td>\n    </tr>\n    <tr>\n      <th>4</th>\n      <td>0.65</td>\n      <td>0.70</td>\n      <td>0.69</td>\n    </tr>\n    <tr>\n      <th>...</th>\n      <td>...</td>\n      <td>...</td>\n      <td>...</td>\n    </tr>\n    <tr>\n      <th>2995</th>\n      <td>0.93</td>\n      <td>0.67</td>\n      <td>0.30</td>\n    </tr>\n    <tr>\n      <th>2996</th>\n      <td>0.40</td>\n      <td>0.47</td>\n      <td>0.43</td>\n    </tr>\n    <tr>\n      <th>2997</th>\n      <td>0.69</td>\n      <td>0.27</td>\n      <td>0.56</td>\n    </tr>\n    <tr>\n      <th>2998</th>\n      <td>0.57</td>\n      <td>0.47</td>\n      <td>0.40</td>\n    </tr>\n    <tr>\n      <th>2999</th>\n      <td>0.06</td>\n      <td>0.04</td>\n      <td>0.04</td>\n    </tr>\n  </tbody>\n</table>\n<p>3000 rows × 3 columns</p>\n</div>"
     },
     "execution_count": 34,
     "metadata": {},
     "output_type": "execute_result"
    }
   ],
   "source": [
    "predictions"
   ],
   "metadata": {
    "collapsed": false,
    "pycharm": {
     "name": "#%%\n"
    }
   }
  },
  {
   "cell_type": "code",
   "execution_count": 35,
   "outputs": [
    {
     "data": {
      "text/plain": "<Figure size 432x288 with 1 Axes>",
      "image/png": "[encoded data removed]"
     },
     "metadata": {
      "needs_background": "light"
     },
     "output_type": "display_data"
    },
    {
     "data": {
      "text/plain": "<Figure size 432x288 with 1 Axes>",
      "image/png": "[encoded data removed]"
     },
     "metadata": {
      "needs_background": "light"
     },
     "output_type": "display_data"
    },
    {
     "data": {
      "text/plain": "<Figure size 432x288 with 1 Axes>",
      "image/png": "[encoded data removed]"
     },
     "metadata": {
      "needs_background": "light"
     },
     "output_type": "display_data"
    }
   ],
   "source": [
    "for col in predictions.columns:\n",
    "    sns.distplot(predictions[col], hist=False)\n",
    "    plt.show()"
   ],
   "metadata": {
    "collapsed": false,
    "pycharm": {
     "name": "#%%\n"
    }
   }
  },
  {
   "cell_type": "code",
   "execution_count": 37,
   "outputs": [
    {
     "name": "stdout",
     "output_type": "stream",
     "text": [
      "El AUC es: 0.79\n",
      "El accuracy es: 0.8\n",
      "La precision es: 0.84\n",
      "El recall es: 0.8\n",
      "El F1 Score es: 0.81 \n",
      "\n"
     ]
    },
    {
     "data": {
      "text/plain": "Predicted     0    1\nObserved            \n0          1921  468\n1           141  470",
      "text/html": "<div>\n<style scoped>\n    .dataframe tbody tr th:only-of-type {\n        vertical-align: middle;\n    }\n\n    .dataframe tbody tr th {\n        vertical-align: top;\n    }\n\n    .dataframe thead th {\n        text-align: right;\n    }\n</style>\n<table border=\"1\" class=\"dataframe\">\n  <thead>\n    <tr style=\"text-align: right;\">\n      <th>Predicted</th>\n      <th>0</th>\n      <th>1</th>\n    </tr>\n    <tr>\n      <th>Observed</th>\n      <th></th>\n      <th></th>\n    </tr>\n  </thead>\n  <tbody>\n    <tr>\n      <th>0</th>\n      <td>1921</td>\n      <td>468</td>\n    </tr>\n    <tr>\n      <th>1</th>\n      <td>141</td>\n      <td>470</td>\n    </tr>\n  </tbody>\n</table>\n</div>"
     },
     "execution_count": 37,
     "metadata": {},
     "output_type": "execute_result"
    }
   ],
   "source": [
    "evaluation = ModelEvaluation(observed=test_label, predicted=svm.predict(test_data))\n",
    "evaluation.calculate_metrics()\n",
    "evaluation.print_metrics()\n",
    "evaluation.confusion_matrix(normalize=False)"
   ],
   "metadata": {
    "collapsed": false,
    "pycharm": {
     "name": "#%%\n"
    }
   }
  },
  {
   "cell_type": "code",
   "execution_count": 42,
   "outputs": [
    {
     "data": {
      "text/plain": "SVC(class_weight='balanced', probability=True, random_state=42)",
      "text/html": "<style>div.sk-top-container {color: black;background-color: white;}div.sk-toggleable {background-color: white;}label.sk-toggleable__label {cursor: pointer;display: block;width: 100%;margin-bottom: 0;padding: 0.2em 0.3em;box-sizing: border-box;text-align: center;}div.sk-toggleable__content {max-height: 0;max-width: 0;overflow: hidden;text-align: left;background-color: #f0f8ff;}div.sk-toggleable__content pre {margin: 0.2em;color: black;border-radius: 0.25em;background-color: #f0f8ff;}input.sk-toggleable__control:checked~div.sk-toggleable__content {max-height: 200px;max-width: 100%;overflow: auto;}div.sk-estimator input.sk-toggleable__control:checked~label.sk-toggleable__label {background-color: #d4ebff;}div.sk-label input.sk-toggleable__control:checked~label.sk-toggleable__label {background-color: #d4ebff;}input.sk-hidden--visually {border: 0;clip: rect(1px 1px 1px 1px);clip: rect(1px, 1px, 1px, 1px);height: 1px;margin: -1px;overflow: hidden;padding: 0;position: absolute;width: 1px;}div.sk-estimator {font-family: monospace;background-color: #f0f8ff;margin: 0.25em 0.25em;border: 1px dotted black;border-radius: 0.25em;box-sizing: border-box;}div.sk-estimator:hover {background-color: #d4ebff;}div.sk-parallel-item::after {content: \"\";width: 100%;border-bottom: 1px solid gray;flex-grow: 1;}div.sk-label:hover label.sk-toggleable__label {background-color: #d4ebff;}div.sk-serial::before {content: \"\";position: absolute;border-left: 1px solid gray;box-sizing: border-box;top: 2em;bottom: 0;left: 50%;}div.sk-serial {display: flex;flex-direction: column;align-items: center;background-color: white;}div.sk-item {z-index: 1;}div.sk-parallel {display: flex;align-items: stretch;justify-content: center;background-color: white;}div.sk-parallel-item {display: flex;flex-direction: column;position: relative;background-color: white;}div.sk-parallel-item:first-child::after {align-self: flex-end;width: 50%;}div.sk-parallel-item:last-child::after {align-self: flex-start;width: 50%;}div.sk-parallel-item:only-child::after {width: 0;}div.sk-dashed-wrapped {border: 1px dashed gray;margin: 0.2em;box-sizing: border-box;padding-bottom: 0.1em;background-color: white;position: relative;}div.sk-label label {font-family: monospace;font-weight: bold;background-color: white;display: inline-block;line-height: 1.2em;}div.sk-label-container {position: relative;z-index: 2;text-align: center;}div.sk-container {display: inline-block;position: relative;}</style><div class=\"sk-top-container\"><div class=\"sk-container\"><div class=\"sk-item\"><div class=\"sk-estimator sk-toggleable\"><input class=\"sk-toggleable__control sk-hidden--visually\" id=\"322b4d43-5448-4c6e-8f69-3f76c56b2093\" type=\"checkbox\" checked><label class=\"sk-toggleable__label\" for=\"322b4d43-5448-4c6e-8f69-3f76c56b2093\">SVC</label><div class=\"sk-toggleable__content\"><pre>SVC(class_weight='balanced', probability=True, random_state=42)</pre></div></div></div></div></div>"
     },
     "execution_count": 42,
     "metadata": {},
     "output_type": "execute_result"
    }
   ],
   "source": [
    "svm['svm']"
   ],
   "metadata": {
    "collapsed": false,
    "pycharm": {
     "name": "#%%\n"
    }
   }
  },
  {
   "cell_type": "code",
   "execution_count": 40,
   "outputs": [
    {
     "data": {
      "text/plain": "{'C': 1.0,\n 'break_ties': False,\n 'cache_size': 200,\n 'class_weight': 'balanced',\n 'coef0': 0.0,\n 'decision_function_shape': 'ovr',\n 'degree': 3,\n 'gamma': 'scale',\n 'kernel': 'rbf',\n 'max_iter': -1,\n 'probability': True,\n 'random_state': 42,\n 'shrinking': True,\n 'tol': 0.001,\n 'verbose': False}"
     },
     "execution_count": 40,
     "metadata": {},
     "output_type": "execute_result"
    }
   ],
   "source": [
    "params = svm['svm'].get_params()\n",
    "params"
   ],
   "metadata": {
    "collapsed": false,
    "pycharm": {
     "name": "#%%\n"
    }
   }
  },
  {
   "cell_type": "code",
   "execution_count": 44,
   "outputs": [],
   "source": [
    "joblib.dump(svm, filename='models/svm.joblib')\n",
    "svm = None"
   ],
   "metadata": {
    "collapsed": false,
    "pycharm": {
     "name": "#%%\n"
    }
   }
  },
  {
   "cell_type": "code",
   "execution_count": 46,
   "outputs": [
    {
     "data": {
      "text/plain": "Pipeline(steps=[('preprocessing',\n                 ColumnTransformer(transformers=[('numeric',\n                                                  Pipeline(steps=[('imputer',\n                                                                   SimpleImputer(strategy='median')),\n                                                                  ('scaler',\n                                                                   StandardScaler())]),\n                                                  ['CreditScore', 'Age',\n                                                   'Tenure', 'Balance',\n                                                   'NumOfProducts',\n                                                   'EstimatedSalary']),\n                                                 ('categorical',\n                                                  Pipeline(steps=[('cat_imputer',\n                                                                   SimpleImputer(strategy='most_frequent')),\n                                                                  ('ohe',\n                                                                   OneHotEncoder(handle_unknown='ignore',\n                                                                                 sparse=False))]),\n                                                  ['Gender', 'Geography',\n                                                   'HasCrCard',\n                                                   'IsActiveMember'])])),\n                ('svm',\n                 SVC(class_weight='balanced', probability=True,\n                     random_state=42))])",
      "text/html": "<style>div.sk-top-container {color: black;background-color: white;}div.sk-toggleable {background-color: white;}label.sk-toggleable__label {cursor: pointer;display: block;width: 100%;margin-bottom: 0;padding: 0.2em 0.3em;box-sizing: border-box;text-align: center;}div.sk-toggleable__content {max-height: 0;max-width: 0;overflow: hidden;text-align: left;background-color: #f0f8ff;}div.sk-toggleable__content pre {margin: 0.2em;color: black;border-radius: 0.25em;background-color: #f0f8ff;}input.sk-toggleable__control:checked~div.sk-toggleable__content {max-height: 200px;max-width: 100%;overflow: auto;}div.sk-estimator input.sk-toggleable__control:checked~label.sk-toggleable__label {background-color: #d4ebff;}div.sk-label input.sk-toggleable__control:checked~label.sk-toggleable__label {background-color: #d4ebff;}input.sk-hidden--visually {border: 0;clip: rect(1px 1px 1px 1px);clip: rect(1px, 1px, 1px, 1px);height: 1px;margin: -1px;overflow: hidden;padding: 0;position: absolute;width: 1px;}div.sk-estimator {font-family: monospace;background-color: #f0f8ff;margin: 0.25em 0.25em;border: 1px dotted black;border-radius: 0.25em;box-sizing: border-box;}div.sk-estimator:hover {background-color: #d4ebff;}div.sk-parallel-item::after {content: \"\";width: 100%;border-bottom: 1px solid gray;flex-grow: 1;}div.sk-label:hover label.sk-toggleable__label {background-color: #d4ebff;}div.sk-serial::before {content: \"\";position: absolute;border-left: 1px solid gray;box-sizing: border-box;top: 2em;bottom: 0;left: 50%;}div.sk-serial {display: flex;flex-direction: column;align-items: center;background-color: white;}div.sk-item {z-index: 1;}div.sk-parallel {display: flex;align-items: stretch;justify-content: center;background-color: white;}div.sk-parallel-item {display: flex;flex-direction: column;position: relative;background-color: white;}div.sk-parallel-item:first-child::after {align-self: flex-end;width: 50%;}div.sk-parallel-item:last-child::after {align-self: flex-start;width: 50%;}div.sk-parallel-item:only-child::after {width: 0;}div.sk-dashed-wrapped {border: 1px dashed gray;margin: 0.2em;box-sizing: border-box;padding-bottom: 0.1em;background-color: white;position: relative;}div.sk-label label {font-family: monospace;font-weight: bold;background-color: white;display: inline-block;line-height: 1.2em;}div.sk-label-container {position: relative;z-index: 2;text-align: center;}div.sk-container {display: inline-block;position: relative;}</style><div class=\"sk-top-container\"><div class=\"sk-container\"><div class=\"sk-item sk-dashed-wrapped\"><div class=\"sk-label-container\"><div class=\"sk-label sk-toggleable\"><input class=\"sk-toggleable__control sk-hidden--visually\" id=\"171c2d1d-669b-4f45-b899-c014e16274cd\" type=\"checkbox\" ><label class=\"sk-toggleable__label\" for=\"171c2d1d-669b-4f45-b899-c014e16274cd\">Pipeline</label><div class=\"sk-toggleable__content\"><pre>Pipeline(steps=[('preprocessing',\n                 ColumnTransformer(transformers=[('numeric',\n                                                  Pipeline(steps=[('imputer',\n                                                                   SimpleImputer(strategy='median')),\n                                                                  ('scaler',\n                                                                   StandardScaler())]),\n                                                  ['CreditScore', 'Age',\n                                                   'Tenure', 'Balance',\n                                                   'NumOfProducts',\n                                                   'EstimatedSalary']),\n                                                 ('categorical',\n                                                  Pipeline(steps=[('cat_imputer',\n                                                                   SimpleImputer(strategy='most_frequent')),\n                                                                  ('ohe',\n                                                                   OneHotEncoder(handle_unknown='ignore',\n                                                                                 sparse=False))]),\n                                                  ['Gender', 'Geography',\n                                                   'HasCrCard',\n                                                   'IsActiveMember'])])),\n                ('svm',\n                 SVC(class_weight='balanced', probability=True,\n                     random_state=42))])</pre></div></div></div><div class=\"sk-serial\"><div class=\"sk-item sk-dashed-wrapped\"><div class=\"sk-label-container\"><div class=\"sk-label sk-toggleable\"><input class=\"sk-toggleable__control sk-hidden--visually\" id=\"b539c954-4feb-4219-839d-b95d3e2c7015\" type=\"checkbox\" ><label class=\"sk-toggleable__label\" for=\"b539c954-4feb-4219-839d-b95d3e2c7015\">preprocessing: ColumnTransformer</label><div class=\"sk-toggleable__content\"><pre>ColumnTransformer(transformers=[('numeric',\n                                 Pipeline(steps=[('imputer',\n                                                  SimpleImputer(strategy='median')),\n                                                 ('scaler', StandardScaler())]),\n                                 ['CreditScore', 'Age', 'Tenure', 'Balance',\n                                  'NumOfProducts', 'EstimatedSalary']),\n                                ('categorical',\n                                 Pipeline(steps=[('cat_imputer',\n                                                  SimpleImputer(strategy='most_frequent')),\n                                                 ('ohe',\n                                                  OneHotEncoder(handle_unknown='ignore',\n                                                                sparse=False))]),\n                                 ['Gender', 'Geography', 'HasCrCard',\n                                  'IsActiveMember'])])</pre></div></div></div><div class=\"sk-parallel\"><div class=\"sk-parallel-item\"><div class=\"sk-item\"><div class=\"sk-label-container\"><div class=\"sk-label sk-toggleable\"><input class=\"sk-toggleable__control sk-hidden--visually\" id=\"456fc694-a931-49ab-bd66-4381f1812279\" type=\"checkbox\" ><label class=\"sk-toggleable__label\" for=\"456fc694-a931-49ab-bd66-4381f1812279\">numeric</label><div class=\"sk-toggleable__content\"><pre>['CreditScore', 'Age', 'Tenure', 'Balance', 'NumOfProducts', 'EstimatedSalary']</pre></div></div></div><div class=\"sk-serial\"><div class=\"sk-item\"><div class=\"sk-serial\"><div class=\"sk-item\"><div class=\"sk-estimator sk-toggleable\"><input class=\"sk-toggleable__control sk-hidden--visually\" id=\"de008272-d3f8-45f5-8d2d-9624e1d59ccf\" type=\"checkbox\" ><label class=\"sk-toggleable__label\" for=\"de008272-d3f8-45f5-8d2d-9624e1d59ccf\">SimpleImputer</label><div class=\"sk-toggleable__content\"><pre>SimpleImputer(strategy='median')</pre></div></div></div><div class=\"sk-item\"><div class=\"sk-estimator sk-toggleable\"><input class=\"sk-toggleable__control sk-hidden--visually\" id=\"cd6e29b3-ca1c-48fe-a771-b9b3b9cb9145\" type=\"checkbox\" ><label class=\"sk-toggleable__label\" for=\"cd6e29b3-ca1c-48fe-a771-b9b3b9cb9145\">StandardScaler</label><div class=\"sk-toggleable__content\"><pre>StandardScaler()</pre></div></div></div></div></div></div></div></div><div class=\"sk-parallel-item\"><div class=\"sk-item\"><div class=\"sk-label-container\"><div class=\"sk-label sk-toggleable\"><input class=\"sk-toggleable__control sk-hidden--visually\" id=\"7851ae5e-df9e-4cb0-b70c-3583e79eb902\" type=\"checkbox\" ><label class=\"sk-toggleable__label\" for=\"7851ae5e-df9e-4cb0-b70c-3583e79eb902\">categorical</label><div class=\"sk-toggleable__content\"><pre>['Gender', 'Geography', 'HasCrCard', 'IsActiveMember']</pre></div></div></div><div class=\"sk-serial\"><div class=\"sk-item\"><div class=\"sk-serial\"><div class=\"sk-item\"><div class=\"sk-estimator sk-toggleable\"><input class=\"sk-toggleable__control sk-hidden--visually\" id=\"47af24da-ca50-4ff3-ab70-6d104e1d9cda\" type=\"checkbox\" ><label class=\"sk-toggleable__label\" for=\"47af24da-ca50-4ff3-ab70-6d104e1d9cda\">SimpleImputer</label><div class=\"sk-toggleable__content\"><pre>SimpleImputer(strategy='most_frequent')</pre></div></div></div><div class=\"sk-item\"><div class=\"sk-estimator sk-toggleable\"><input class=\"sk-toggleable__control sk-hidden--visually\" id=\"54df370c-14a5-4e35-a64a-b6bfa48ffd95\" type=\"checkbox\" ><label class=\"sk-toggleable__label\" for=\"54df370c-14a5-4e35-a64a-b6bfa48ffd95\">OneHotEncoder</label><div class=\"sk-toggleable__content\"><pre>OneHotEncoder(handle_unknown='ignore', sparse=False)</pre></div></div></div></div></div></div></div></div></div></div><div class=\"sk-item\"><div class=\"sk-estimator sk-toggleable\"><input class=\"sk-toggleable__control sk-hidden--visually\" id=\"9ffe4ffc-ad7d-473a-b8cf-47a3a22612cc\" type=\"checkbox\" ><label class=\"sk-toggleable__label\" for=\"9ffe4ffc-ad7d-473a-b8cf-47a3a22612cc\">SVC</label><div class=\"sk-toggleable__content\"><pre>SVC(class_weight='balanced', probability=True, random_state=42)</pre></div></div></div></div></div></div></div>"
     },
     "execution_count": 46,
     "metadata": {},
     "output_type": "execute_result"
    }
   ],
   "source": [
    "svm = joblib.load(filename='models/svm.joblib')\n",
    "svm"
   ],
   "metadata": {
    "collapsed": false,
    "pycharm": {
     "name": "#%%\n"
    }
   }
  },
  {
   "cell_type": "code",
   "execution_count": 48,
   "outputs": [
    {
     "data": {
      "text/plain": "VotingClassifier(estimators=[('lr',\n                              Pipeline(steps=[('preprocessing',\n                                               ColumnTransformer(transformers=[('numeric',\n                                                                                Pipeline(steps=[('imputer',\n                                                                                                 SimpleImputer(strategy='median')),\n                                                                                                ('scaler',\n                                                                                                 StandardScaler())]),\n                                                                                ['CreditScore',\n                                                                                 'Age',\n                                                                                 'Tenure',\n                                                                                 'Balance',\n                                                                                 'NumOfProducts',\n                                                                                 'EstimatedSalary']),\n                                                                               ('categorical',\n                                                                                Pipeline(steps=[('cat_imputer',\n                                                                                                 SimpleImputer(strategy='mo...\n                                                                                 'NumOfProducts',\n                                                                                 'EstimatedSalary']),\n                                                                               ('categorical',\n                                                                                Pipeline(steps=[('cat_imputer',\n                                                                                                 SimpleImputer(strategy='most_frequent')),\n                                                                                                ('ohe',\n                                                                                                 OneHotEncoder(handle_unknown='ignore',\n                                                                                                               sparse=False))]),\n                                                                                ['Gender',\n                                                                                 'Geography',\n                                                                                 'HasCrCard',\n                                                                                 'IsActiveMember'])])),\n                                              ('svm',\n                                               SVC(class_weight='balanced',\n                                                   probability=True,\n                                                   random_state=42))]))],\n                 n_jobs=-1, voting='soft', weights=[1, 1, 2])",
      "text/html": "<style>div.sk-top-container {color: black;background-color: white;}div.sk-toggleable {background-color: white;}label.sk-toggleable__label {cursor: pointer;display: block;width: 100%;margin-bottom: 0;padding: 0.2em 0.3em;box-sizing: border-box;text-align: center;}div.sk-toggleable__content {max-height: 0;max-width: 0;overflow: hidden;text-align: left;background-color: #f0f8ff;}div.sk-toggleable__content pre {margin: 0.2em;color: black;border-radius: 0.25em;background-color: #f0f8ff;}input.sk-toggleable__control:checked~div.sk-toggleable__content {max-height: 200px;max-width: 100%;overflow: auto;}div.sk-estimator input.sk-toggleable__control:checked~label.sk-toggleable__label {background-color: #d4ebff;}div.sk-label input.sk-toggleable__control:checked~label.sk-toggleable__label {background-color: #d4ebff;}input.sk-hidden--visually {border: 0;clip: rect(1px 1px 1px 1px);clip: rect(1px, 1px, 1px, 1px);height: 1px;margin: -1px;overflow: hidden;padding: 0;position: absolute;width: 1px;}div.sk-estimator {font-family: monospace;background-color: #f0f8ff;margin: 0.25em 0.25em;border: 1px dotted black;border-radius: 0.25em;box-sizing: border-box;}div.sk-estimator:hover {background-color: #d4ebff;}div.sk-parallel-item::after {content: \"\";width: 100%;border-bottom: 1px solid gray;flex-grow: 1;}div.sk-label:hover label.sk-toggleable__label {background-color: #d4ebff;}div.sk-serial::before {content: \"\";position: absolute;border-left: 1px solid gray;box-sizing: border-box;top: 2em;bottom: 0;left: 50%;}div.sk-serial {display: flex;flex-direction: column;align-items: center;background-color: white;}div.sk-item {z-index: 1;}div.sk-parallel {display: flex;align-items: stretch;justify-content: center;background-color: white;}div.sk-parallel-item {display: flex;flex-direction: column;position: relative;background-color: white;}div.sk-parallel-item:first-child::after {align-self: flex-end;width: 50%;}div.sk-parallel-item:last-child::after {align-self: flex-start;width: 50%;}div.sk-parallel-item:only-child::after {width: 0;}div.sk-dashed-wrapped {border: 1px dashed gray;margin: 0.2em;box-sizing: border-box;padding-bottom: 0.1em;background-color: white;position: relative;}div.sk-label label {font-family: monospace;font-weight: bold;background-color: white;display: inline-block;line-height: 1.2em;}div.sk-label-container {position: relative;z-index: 2;text-align: center;}div.sk-container {display: inline-block;position: relative;}</style><div class=\"sk-top-container\"><div class=\"sk-container\"><div class=\"sk-item sk-dashed-wrapped\"><div class=\"sk-label-container\"><div class=\"sk-label sk-toggleable\"><input class=\"sk-toggleable__control sk-hidden--visually\" id=\"d6b83a2c-3df4-4e5a-9d73-9926f8964d0c\" type=\"checkbox\" ><label class=\"sk-toggleable__label\" for=\"d6b83a2c-3df4-4e5a-9d73-9926f8964d0c\">VotingClassifier</label><div class=\"sk-toggleable__content\"><pre>VotingClassifier(estimators=[('lr',\n                              Pipeline(steps=[('preprocessing',\n                                               ColumnTransformer(transformers=[('numeric',\n                                                                                Pipeline(steps=[('imputer',\n                                                                                                 SimpleImputer(strategy='median')),\n                                                                                                ('scaler',\n                                                                                                 StandardScaler())]),\n                                                                                ['CreditScore',\n                                                                                 'Age',\n                                                                                 'Tenure',\n                                                                                 'Balance',\n                                                                                 'NumOfProducts',\n                                                                                 'EstimatedSalary']),\n                                                                               ('categorical',\n                                                                                Pipeline(steps=[('cat_imputer',\n                                                                                                 SimpleImputer(strategy='mo...\n                                                                                 'NumOfProducts',\n                                                                                 'EstimatedSalary']),\n                                                                               ('categorical',\n                                                                                Pipeline(steps=[('cat_imputer',\n                                                                                                 SimpleImputer(strategy='most_frequent')),\n                                                                                                ('ohe',\n                                                                                                 OneHotEncoder(handle_unknown='ignore',\n                                                                                                               sparse=False))]),\n                                                                                ['Gender',\n                                                                                 'Geography',\n                                                                                 'HasCrCard',\n                                                                                 'IsActiveMember'])])),\n                                              ('svm',\n                                               SVC(class_weight='balanced',\n                                                   probability=True,\n                                                   random_state=42))]))],\n                 n_jobs=-1, voting='soft', weights=[1, 1, 2])</pre></div></div></div><div class=\"sk-parallel\"><div class=\"sk-parallel-item\"><div class=\"sk-item\"><div class=\"sk-label-container\"><div class=\"sk-label sk-toggleable\"><label>lr</label></div></div><div class=\"sk-serial\"><div class=\"sk-item\"><div class=\"sk-serial\"><div class=\"sk-item sk-dashed-wrapped\"><div class=\"sk-label-container\"><div class=\"sk-label sk-toggleable\"><input class=\"sk-toggleable__control sk-hidden--visually\" id=\"37dd3c05-6954-45eb-97a3-02ad66e9c72d\" type=\"checkbox\" ><label class=\"sk-toggleable__label\" for=\"37dd3c05-6954-45eb-97a3-02ad66e9c72d\">preprocessing: ColumnTransformer</label><div class=\"sk-toggleable__content\"><pre>ColumnTransformer(transformers=[('numeric',\n                                 Pipeline(steps=[('imputer',\n                                                  SimpleImputer(strategy='median')),\n                                                 ('scaler', StandardScaler())]),\n                                 ['CreditScore', 'Age', 'Tenure', 'Balance',\n                                  'NumOfProducts', 'EstimatedSalary']),\n                                ('categorical',\n                                 Pipeline(steps=[('cat_imputer',\n                                                  SimpleImputer(strategy='most_frequent')),\n                                                 ('ohe',\n                                                  OneHotEncoder(handle_unknown='ignore',\n                                                                sparse=False))]),\n                                 ['Gender', 'Geography', 'HasCrCard',\n                                  'IsActiveMember'])])</pre></div></div></div><div class=\"sk-parallel\"><div class=\"sk-parallel-item\"><div class=\"sk-item\"><div class=\"sk-label-container\"><div class=\"sk-label sk-toggleable\"><input class=\"sk-toggleable__control sk-hidden--visually\" id=\"06a21b05-19e1-4f5d-8d0e-13f2e789fdfb\" type=\"checkbox\" ><label class=\"sk-toggleable__label\" for=\"06a21b05-19e1-4f5d-8d0e-13f2e789fdfb\">numeric</label><div class=\"sk-toggleable__content\"><pre>['CreditScore', 'Age', 'Tenure', 'Balance', 'NumOfProducts', 'EstimatedSalary']</pre></div></div></div><div class=\"sk-serial\"><div class=\"sk-item\"><div class=\"sk-serial\"><div class=\"sk-item\"><div class=\"sk-estimator sk-toggleable\"><input class=\"sk-toggleable__control sk-hidden--visually\" id=\"a25d67ab-e021-47a9-b38a-ecfee46b8a5c\" type=\"checkbox\" ><label class=\"sk-toggleable__label\" for=\"a25d67ab-e021-47a9-b38a-ecfee46b8a5c\">SimpleImputer</label><div class=\"sk-toggleable__content\"><pre>SimpleImputer(strategy='median')</pre></div></div></div><div class=\"sk-item\"><div class=\"sk-estimator sk-toggleable\"><input class=\"sk-toggleable__control sk-hidden--visually\" id=\"166b5683-4675-4225-9134-bf976b9f90a2\" type=\"checkbox\" ><label class=\"sk-toggleable__label\" for=\"166b5683-4675-4225-9134-bf976b9f90a2\">StandardScaler</label><div class=\"sk-toggleable__content\"><pre>StandardScaler()</pre></div></div></div></div></div></div></div></div><div class=\"sk-parallel-item\"><div class=\"sk-item\"><div class=\"sk-label-container\"><div class=\"sk-label sk-toggleable\"><input class=\"sk-toggleable__control sk-hidden--visually\" id=\"bb420509-2ccc-422c-a187-977b9112da82\" type=\"checkbox\" ><label class=\"sk-toggleable__label\" for=\"bb420509-2ccc-422c-a187-977b9112da82\">categorical</label><div class=\"sk-toggleable__content\"><pre>['Gender', 'Geography', 'HasCrCard', 'IsActiveMember']</pre></div></div></div><div class=\"sk-serial\"><div class=\"sk-item\"><div class=\"sk-serial\"><div class=\"sk-item\"><div class=\"sk-estimator sk-toggleable\"><input class=\"sk-toggleable__control sk-hidden--visually\" id=\"206f3a1e-0258-46fe-89ce-3da35bbb0b86\" type=\"checkbox\" ><label class=\"sk-toggleable__label\" for=\"206f3a1e-0258-46fe-89ce-3da35bbb0b86\">SimpleImputer</label><div class=\"sk-toggleable__content\"><pre>SimpleImputer(strategy='most_frequent')</pre></div></div></div><div class=\"sk-item\"><div class=\"sk-estimator sk-toggleable\"><input class=\"sk-toggleable__control sk-hidden--visually\" id=\"73eaf959-e234-438c-8033-d612a96bf4e0\" type=\"checkbox\" ><label class=\"sk-toggleable__label\" for=\"73eaf959-e234-438c-8033-d612a96bf4e0\">OneHotEncoder</label><div class=\"sk-toggleable__content\"><pre>OneHotEncoder(handle_unknown='ignore', sparse=False)</pre></div></div></div></div></div></div></div></div></div></div><div class=\"sk-item\"><div class=\"sk-estimator sk-toggleable\"><input class=\"sk-toggleable__control sk-hidden--visually\" id=\"af70cd6f-fa79-4e39-9e06-72257f7dd865\" type=\"checkbox\" ><label class=\"sk-toggleable__label\" for=\"af70cd6f-fa79-4e39-9e06-72257f7dd865\">LogisticRegression</label><div class=\"sk-toggleable__content\"><pre>LogisticRegression(class_weight='balanced', n_jobs=-1, penalty='l1',\n                   random_state=42, solver='saga')</pre></div></div></div></div></div></div></div></div><div class=\"sk-parallel-item\"><div class=\"sk-item\"><div class=\"sk-label-container\"><div class=\"sk-label sk-toggleable\"><label>dtree</label></div></div><div class=\"sk-serial\"><div class=\"sk-item\"><div class=\"sk-serial\"><div class=\"sk-item sk-dashed-wrapped\"><div class=\"sk-label-container\"><div class=\"sk-label sk-toggleable\"><input class=\"sk-toggleable__control sk-hidden--visually\" id=\"d92391d6-f1cb-4208-8de2-1e771c1c6393\" type=\"checkbox\" ><label class=\"sk-toggleable__label\" for=\"d92391d6-f1cb-4208-8de2-1e771c1c6393\">preprocessing: ColumnTransformer</label><div class=\"sk-toggleable__content\"><pre>ColumnTransformer(transformers=[('numeric',\n                                 Pipeline(steps=[('imputer',\n                                                  SimpleImputer(strategy='median')),\n                                                 ('scaler', StandardScaler())]),\n                                 ['CreditScore', 'Age', 'Tenure', 'Balance',\n                                  'NumOfProducts', 'EstimatedSalary']),\n                                ('categorical',\n                                 Pipeline(steps=[('cat_imputer',\n                                                  SimpleImputer(strategy='most_frequent')),\n                                                 ('ohe',\n                                                  OneHotEncoder(handle_unknown='ignore',\n                                                                sparse=False))]),\n                                 ['Gender', 'Geography', 'HasCrCard',\n                                  'IsActiveMember'])])</pre></div></div></div><div class=\"sk-parallel\"><div class=\"sk-parallel-item\"><div class=\"sk-item\"><div class=\"sk-label-container\"><div class=\"sk-label sk-toggleable\"><input class=\"sk-toggleable__control sk-hidden--visually\" id=\"e0801918-46bb-4b47-9ca4-ceed5be875e4\" type=\"checkbox\" ><label class=\"sk-toggleable__label\" for=\"e0801918-46bb-4b47-9ca4-ceed5be875e4\">numeric</label><div class=\"sk-toggleable__content\"><pre>['CreditScore', 'Age', 'Tenure', 'Balance', 'NumOfProducts', 'EstimatedSalary']</pre></div></div></div><div class=\"sk-serial\"><div class=\"sk-item\"><div class=\"sk-serial\"><div class=\"sk-item\"><div class=\"sk-estimator sk-toggleable\"><input class=\"sk-toggleable__control sk-hidden--visually\" id=\"e64edc72-3578-4542-984a-bf911e29c91a\" type=\"checkbox\" ><label class=\"sk-toggleable__label\" for=\"e64edc72-3578-4542-984a-bf911e29c91a\">SimpleImputer</label><div class=\"sk-toggleable__content\"><pre>SimpleImputer(strategy='median')</pre></div></div></div><div class=\"sk-item\"><div class=\"sk-estimator sk-toggleable\"><input class=\"sk-toggleable__control sk-hidden--visually\" id=\"0dc0dc2d-9319-44dc-844b-d11e12def89e\" type=\"checkbox\" ><label class=\"sk-toggleable__label\" for=\"0dc0dc2d-9319-44dc-844b-d11e12def89e\">StandardScaler</label><div class=\"sk-toggleable__content\"><pre>StandardScaler()</pre></div></div></div></div></div></div></div></div><div class=\"sk-parallel-item\"><div class=\"sk-item\"><div class=\"sk-label-container\"><div class=\"sk-label sk-toggleable\"><input class=\"sk-toggleable__control sk-hidden--visually\" id=\"bf4d37bf-c6be-435a-aad8-7c185d75d0b8\" type=\"checkbox\" ><label class=\"sk-toggleable__label\" for=\"bf4d37bf-c6be-435a-aad8-7c185d75d0b8\">categorical</label><div class=\"sk-toggleable__content\"><pre>['Gender', 'Geography', 'HasCrCard', 'IsActiveMember']</pre></div></div></div><div class=\"sk-serial\"><div class=\"sk-item\"><div class=\"sk-serial\"><div class=\"sk-item\"><div class=\"sk-estimator sk-toggleable\"><input class=\"sk-toggleable__control sk-hidden--visually\" id=\"01cdd174-0292-462d-8aea-7327566ab525\" type=\"checkbox\" ><label class=\"sk-toggleable__label\" for=\"01cdd174-0292-462d-8aea-7327566ab525\">SimpleImputer</label><div class=\"sk-toggleable__content\"><pre>SimpleImputer(strategy='most_frequent')</pre></div></div></div><div class=\"sk-item\"><div class=\"sk-estimator sk-toggleable\"><input class=\"sk-toggleable__control sk-hidden--visually\" id=\"dda0729d-ec93-4c04-a75b-d70e2ef78b43\" type=\"checkbox\" ><label class=\"sk-toggleable__label\" for=\"dda0729d-ec93-4c04-a75b-d70e2ef78b43\">OneHotEncoder</label><div class=\"sk-toggleable__content\"><pre>OneHotEncoder(handle_unknown='ignore', sparse=False)</pre></div></div></div></div></div></div></div></div></div></div><div class=\"sk-item\"><div class=\"sk-estimator sk-toggleable\"><input class=\"sk-toggleable__control sk-hidden--visually\" id=\"edf0529c-65de-4978-bfea-1bd7a502c187\" type=\"checkbox\" ><label class=\"sk-toggleable__label\" for=\"edf0529c-65de-4978-bfea-1bd7a502c187\">DecisionTreeClassifier</label><div class=\"sk-toggleable__content\"><pre>DecisionTreeClassifier(class_weight='balanced', max_depth=4, random_state=42)</pre></div></div></div></div></div></div></div></div><div class=\"sk-parallel-item\"><div class=\"sk-item\"><div class=\"sk-label-container\"><div class=\"sk-label sk-toggleable\"><label>svm</label></div></div><div class=\"sk-serial\"><div class=\"sk-item\"><div class=\"sk-serial\"><div class=\"sk-item sk-dashed-wrapped\"><div class=\"sk-label-container\"><div class=\"sk-label sk-toggleable\"><input class=\"sk-toggleable__control sk-hidden--visually\" id=\"cfc088c8-9628-4b1a-ab0c-1b9223f03ae1\" type=\"checkbox\" ><label class=\"sk-toggleable__label\" for=\"cfc088c8-9628-4b1a-ab0c-1b9223f03ae1\">preprocessing: ColumnTransformer</label><div class=\"sk-toggleable__content\"><pre>ColumnTransformer(transformers=[('numeric',\n                                 Pipeline(steps=[('imputer',\n                                                  SimpleImputer(strategy='median')),\n                                                 ('scaler', StandardScaler())]),\n                                 ['CreditScore', 'Age', 'Tenure', 'Balance',\n                                  'NumOfProducts', 'EstimatedSalary']),\n                                ('categorical',\n                                 Pipeline(steps=[('cat_imputer',\n                                                  SimpleImputer(strategy='most_frequent')),\n                                                 ('ohe',\n                                                  OneHotEncoder(handle_unknown='ignore',\n                                                                sparse=False))]),\n                                 ['Gender', 'Geography', 'HasCrCard',\n                                  'IsActiveMember'])])</pre></div></div></div><div class=\"sk-parallel\"><div class=\"sk-parallel-item\"><div class=\"sk-item\"><div class=\"sk-label-container\"><div class=\"sk-label sk-toggleable\"><input class=\"sk-toggleable__control sk-hidden--visually\" id=\"ef30ed82-8250-4aae-80bb-716af11b2746\" type=\"checkbox\" ><label class=\"sk-toggleable__label\" for=\"ef30ed82-8250-4aae-80bb-716af11b2746\">numeric</label><div class=\"sk-toggleable__content\"><pre>['CreditScore', 'Age', 'Tenure', 'Balance', 'NumOfProducts', 'EstimatedSalary']</pre></div></div></div><div class=\"sk-serial\"><div class=\"sk-item\"><div class=\"sk-serial\"><div class=\"sk-item\"><div class=\"sk-estimator sk-toggleable\"><input class=\"sk-toggleable__control sk-hidden--visually\" id=\"9c0148e7-fe06-4448-bc2a-9776608ceef6\" type=\"checkbox\" ><label class=\"sk-toggleable__label\" for=\"9c0148e7-fe06-4448-bc2a-9776608ceef6\">SimpleImputer</label><div class=\"sk-toggleable__content\"><pre>SimpleImputer(strategy='median')</pre></div></div></div><div class=\"sk-item\"><div class=\"sk-estimator sk-toggleable\"><input class=\"sk-toggleable__control sk-hidden--visually\" id=\"596b5586-6f38-4909-b20c-ddef6ba24485\" type=\"checkbox\" ><label class=\"sk-toggleable__label\" for=\"596b5586-6f38-4909-b20c-ddef6ba24485\">StandardScaler</label><div class=\"sk-toggleable__content\"><pre>StandardScaler()</pre></div></div></div></div></div></div></div></div><div class=\"sk-parallel-item\"><div class=\"sk-item\"><div class=\"sk-label-container\"><div class=\"sk-label sk-toggleable\"><input class=\"sk-toggleable__control sk-hidden--visually\" id=\"1bcca5e2-fe1e-4b3c-a13c-854c6fd45741\" type=\"checkbox\" ><label class=\"sk-toggleable__label\" for=\"1bcca5e2-fe1e-4b3c-a13c-854c6fd45741\">categorical</label><div class=\"sk-toggleable__content\"><pre>['Gender', 'Geography', 'HasCrCard', 'IsActiveMember']</pre></div></div></div><div class=\"sk-serial\"><div class=\"sk-item\"><div class=\"sk-serial\"><div class=\"sk-item\"><div class=\"sk-estimator sk-toggleable\"><input class=\"sk-toggleable__control sk-hidden--visually\" id=\"24b53fab-124f-41c9-9dd1-2674aaf28021\" type=\"checkbox\" ><label class=\"sk-toggleable__label\" for=\"24b53fab-124f-41c9-9dd1-2674aaf28021\">SimpleImputer</label><div class=\"sk-toggleable__content\"><pre>SimpleImputer(strategy='most_frequent')</pre></div></div></div><div class=\"sk-item\"><div class=\"sk-estimator sk-toggleable\"><input class=\"sk-toggleable__control sk-hidden--visually\" id=\"ec740cac-158d-4989-930a-b5c5def02bcb\" type=\"checkbox\" ><label class=\"sk-toggleable__label\" for=\"ec740cac-158d-4989-930a-b5c5def02bcb\">OneHotEncoder</label><div class=\"sk-toggleable__content\"><pre>OneHotEncoder(handle_unknown='ignore', sparse=False)</pre></div></div></div></div></div></div></div></div></div></div><div class=\"sk-item\"><div class=\"sk-estimator sk-toggleable\"><input class=\"sk-toggleable__control sk-hidden--visually\" id=\"0ba57e41-cb88-44f2-8137-5b0f0711c681\" type=\"checkbox\" ><label class=\"sk-toggleable__label\" for=\"0ba57e41-cb88-44f2-8137-5b0f0711c681\">SVC</label><div class=\"sk-toggleable__content\"><pre>SVC(class_weight='balanced', probability=True, random_state=42)</pre></div></div></div></div></div></div></div></div></div></div></div></div>"
     },
     "execution_count": 48,
     "metadata": {},
     "output_type": "execute_result"
    }
   ],
   "source": [
    "lr = Pipeline(steps=[('preprocessing', preprocessing),\n",
    "                     ('logistic_regression', LogisticRegression(penalty='l1', solver='saga',\n",
    "                                                                class_weight='balanced', random_state=42, n_jobs=-1))])\n",
    "\n",
    "dtree = Pipeline(steps=[('preprocessing', preprocessing),\n",
    "                        ('dtree', DecisionTreeClassifier(max_depth=4,\n",
    "                                                         class_weight='balanced', random_state=42))])\n",
    "\n",
    "svm = Pipeline(steps=[('preprocessing', preprocessing),\n",
    "                      ('svm', SVC(probability=True,\n",
    "                                  class_weight='balanced', random_state=42))])\n",
    "\n",
    "ensemble = VotingClassifier(estimators=[('lr', lr),\n",
    "                                        ('dtree', dtree),\n",
    "                                        ('svm', svm)],\n",
    "                            weights=[1, 1, 2], voting='soft', n_jobs=-1)\n",
    "\n",
    "ensemble.fit(train_data, train_label)"
   ],
   "metadata": {
    "collapsed": false,
    "pycharm": {
     "name": "#%%\n"
    }
   }
  },
  {
   "cell_type": "code",
   "execution_count": 49,
   "outputs": [
    {
     "name": "stdout",
     "output_type": "stream",
     "text": [
      "El AUC es: 0.76\n",
      "El accuracy es: 0.85\n",
      "La precision es: 0.85\n",
      "El recall es: 0.85\n",
      "El F1 Score es: 0.85 \n",
      "\n"
     ]
    },
    {
     "data": {
      "text/plain": "Predicted     0    1\nObserved            \n0          2184  205\n1           239  372",
      "text/html": "<div>\n<style scoped>\n    .dataframe tbody tr th:only-of-type {\n        vertical-align: middle;\n    }\n\n    .dataframe tbody tr th {\n        vertical-align: top;\n    }\n\n    .dataframe thead th {\n        text-align: right;\n    }\n</style>\n<table border=\"1\" class=\"dataframe\">\n  <thead>\n    <tr style=\"text-align: right;\">\n      <th>Predicted</th>\n      <th>0</th>\n      <th>1</th>\n    </tr>\n    <tr>\n      <th>Observed</th>\n      <th></th>\n      <th></th>\n    </tr>\n  </thead>\n  <tbody>\n    <tr>\n      <th>0</th>\n      <td>2184</td>\n      <td>205</td>\n    </tr>\n    <tr>\n      <th>1</th>\n      <td>239</td>\n      <td>372</td>\n    </tr>\n  </tbody>\n</table>\n</div>"
     },
     "execution_count": 49,
     "metadata": {},
     "output_type": "execute_result"
    }
   ],
   "source": [
    "evaluation = ModelEvaluation(observed=test_label, predicted=ensemble.predict(test_data))\n",
    "evaluation.calculate_metrics()\n",
    "evaluation.print_metrics()\n",
    "evaluation.confusion_matrix(normalize=False)"
   ],
   "metadata": {
    "collapsed": false,
    "pycharm": {
     "name": "#%%\n"
    }
   }
  },
  {
   "cell_type": "code",
   "execution_count": null,
   "outputs": [],
   "source": [],
   "metadata": {
    "collapsed": false,
    "pycharm": {
     "name": "#%%\n"
    }
   }
  }
 ],
 "metadata": {
  "kernelspec": {
   "display_name": "Python 3",
   "language": "python",
   "name": "python3"
  },
  "language_info": {
   "codemirror_mode": {
    "name": "ipython",
    "version": 2
   },
   "file_extension": ".py",
   "mimetype": "text/x-python",
   "name": "python",
   "nbconvert_exporter": "python",
   "pygments_lexer": "ipython2",
   "version": "2.7.6"
  }
 },
 "nbformat": 4,
 "nbformat_minor": 0
}