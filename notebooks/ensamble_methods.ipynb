{
 "cells": [
  {
   "cell_type": "code",
   "execution_count": null,
   "outputs": [],
   "source": [
    "import shap\n",
    "import joblib\n",
    "import warnings\n",
    "import pandas as pd\n",
    "import seaborn as sns\n",
    "from pdpbox import pdp\n",
    "from sklearn.svm import SVC\n",
    "from sklearn import set_config\n",
    "import matplotlib.pyplot as plt\n",
    "from xgboost import XGBClassifier\n",
    "from sklearn.pipeline import Pipeline\n",
    "from sklearn.impute import SimpleImputer\n",
    "from sklearn.ensemble import VotingClassifier\n",
    "from sklearn.compose import ColumnTransformer\n",
    "from sklearn.tree import DecisionTreeClassifier\n",
    "from utilities.evaluation import ModelEvaluation\n",
    "from sklearn.linear_model import LogisticRegression\n",
    "from sklearn.preprocessing import StandardScaler, OneHotEncoder, PolynomialFeatures\n",
    "from sklearn.model_selection import train_test_split, cross_val_score, cross_val_predict\n",
    "\n",
    "set_config(display='diagram')\n",
    "\n",
    "pd.set_option('float_format', '{:.2f}'.format)\n",
    "warnings.filterwarnings(action='ignore')"
   ],
   "metadata": {
    "collapsed": false,
    "pycharm": {
     "name": "#%%\n"
    }
   }
  },
  {
   "cell_type": "code",
   "execution_count": null,
   "outputs": [],
   "source": [
    "churn = pd.read_csv('../data/churn-modeling.csv', sep=';')\n",
    "churn.sample(n=4)"
   ],
   "metadata": {
    "collapsed": false,
    "pycharm": {
     "name": "#%%\n"
    }
   }
  },
  {
   "cell_type": "markdown",
   "source": [
    "## Validación cruzada"
   ],
   "metadata": {
    "collapsed": false
   }
  },
  {
   "cell_type": "code",
   "execution_count": null,
   "outputs": [],
   "source": [
    "exited = churn.pop('Exited')\n",
    "\n",
    "train_data, test_data, train_label, test_label = train_test_split(churn, exited,\n",
    "                                                                  test_size=0.3,\n",
    "                                                                  stratify=exited, random_state=42)\n",
    "\n",
    "print(f'El set de entrenamiento tiene {train_data.shape[0]} observaciones, y {train_data.shape[1]} variables.')\n",
    "print(f'El set de prueba tiene {test_data.shape[0]} observaciones, y {test_data.shape[1]} variables.')"
   ],
   "metadata": {
    "collapsed": false,
    "pycharm": {
     "name": "#%%\n"
    }
   }
  },
  {
   "cell_type": "code",
   "execution_count": null,
   "outputs": [],
   "source": [
    "numerical_features = ['CreditScore', 'Age', 'Tenure',\n",
    "                      'Balance', 'NumOfProducts', 'EstimatedSalary']\n",
    "\n",
    "categorical_features = ['Gender', 'Geography', 'HasCrCard', 'IsActiveMember']"
   ],
   "metadata": {
    "collapsed": false,
    "pycharm": {
     "name": "#%%\n"
    }
   }
  },
  {
   "cell_type": "code",
   "execution_count": null,
   "outputs": [],
   "source": [
    "numeric_preprocessing = Pipeline(steps=[('imputer', SimpleImputer(strategy='median')),\n",
    "                                        ('scaler', StandardScaler())])\n",
    "\n",
    "categoric_preprocessing = Pipeline(steps=[('cat_imputer', SimpleImputer(strategy='most_frequent')),\n",
    "                                          ('ohe', OneHotEncoder(handle_unknown='ignore', sparse=False))])\n",
    "\n",
    "preprocessing = ColumnTransformer(transformers=[('numeric', numeric_preprocessing, numerical_features),\n",
    "                                                ('categorical', categoric_preprocessing, categorical_features)],\n",
    "                                  remainder='drop')"
   ],
   "metadata": {
    "collapsed": false,
    "pycharm": {
     "name": "#%%\n"
    }
   }
  },
  {
   "cell_type": "code",
   "execution_count": null,
   "outputs": [],
   "source": [
    "lr = Pipeline(steps=[('preprocessing', preprocessing),\n",
    "                     ('logistic_regression', LogisticRegression(penalty='l1', solver='saga',\n",
    "                                                                class_weight='balanced', random_state=42, n_jobs=-1))])\n",
    "\n",
    "dtree = Pipeline(steps=[('preprocessing', preprocessing),\n",
    "                        ('dtree', DecisionTreeClassifier(max_depth=4,\n",
    "                                                         class_weight='balanced', random_state=42))])\n",
    "\n",
    "svm = Pipeline(steps=[('preprocessing', preprocessing),\n",
    "                      ('svm', SVC(probability=True,\n",
    "                                  class_weight='balanced', random_state=42))])"
   ],
   "metadata": {
    "collapsed": false,
    "pycharm": {
     "name": "#%%\n"
    }
   }
  },
  {
   "cell_type": "code",
   "execution_count": null,
   "outputs": [],
   "source": [
    "roc = {}\n",
    "f1_score = {}\n",
    "\n",
    "roc['logistic_regression'] = cross_val_score(estimator=lr,\n",
    "                                             X=train_data, y=train_label, scoring='roc_auc', cv=5, n_jobs=-1)\n",
    "roc['decision_tree'] = cross_val_score(estimator=dtree,\n",
    "                                       X=train_data, y=train_label, scoring='roc_auc', cv=5, n_jobs=-1)\n",
    "roc['svm'] = cross_val_score(estimator=svm,\n",
    "                             X=train_data, y=train_label, scoring='roc_auc', cv=5, n_jobs=-1)\n",
    "\n",
    "# --------------------------------------------------------------------------------------------------------------\n",
    "\n",
    "f1_score['logistic_regression'] = cross_val_score(estimator=lr,\n",
    "                                                  X=train_data, y=train_label, scoring='f1', cv=5, n_jobs=-1)\n",
    "f1_score['decision_tree'] = cross_val_score(estimator=dtree,\n",
    "                                            X=train_data, y=train_label, scoring='f1', cv=5, n_jobs=-1)\n",
    "f1_score['svm'] = cross_val_score(estimator=svm,\n",
    "                                  X=train_data, y=train_label, scoring='f1', cv=5, n_jobs=-1)\n",
    "\n",
    "\n"
   ],
   "metadata": {
    "collapsed": false,
    "pycharm": {
     "name": "#%%\n"
    }
   }
  }
 ],
 "metadata": {
  "kernelspec": {
   "display_name": "Python 3",
   "language": "python",
   "name": "python3"
  },
  "language_info": {
   "codemirror_mode": {
    "name": "ipython",
    "version": 2
   },
   "file_extension": ".py",
   "mimetype": "text/x-python",
   "name": "python",
   "nbconvert_exporter": "python",
   "pygments_lexer": "ipython2",
   "version": "2.7.6"
  }
 },
 "nbformat": 4,
 "nbformat_minor": 0
}