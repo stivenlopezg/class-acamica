{
 "cells": [
  {
   "cell_type": "markdown",
   "source": [
    "## Carga de módulos"
   ],
   "metadata": {
    "collapsed": false,
    "pycharm": {
     "name": "#%% md\n"
    }
   }
  },
  {
   "cell_type": "code",
   "execution_count": 1,
   "metadata": {
    "collapsed": true
   },
   "outputs": [],
   "source": [
    "import warnings\n",
    "import numpy as np\n",
    "import pandas as pd\n",
    "import missingno as msno\n",
    "from sklearn import set_config\n",
    "from sklearn.pipeline import Pipeline\n",
    "from sklearn.impute import SimpleImputer\n",
    "from sklearn.compose import ColumnTransformer\n",
    "from sklearn.tree import DecisionTreeClassifier\n",
    "from utilities.evaluation import ModelEvaluation\n",
    "from sklearn.linear_model import LogisticRegression\n",
    "from sklearn.preprocessing import StandardScaler, OneHotEncoder\n",
    "from sklearn.model_selection import train_test_split, cross_val_score, cross_val_predict\n",
    "\n",
    "pd.set_option('float_format', '{:.2f}'.format)\n",
    "warnings.filterwarnings(action='ignore')"
   ]
  },
  {
   "cell_type": "markdown",
   "source": [
    "## Carga de datos"
   ],
   "metadata": {
    "collapsed": false,
    "pycharm": {
     "name": "#%% md\n"
    }
   }
  },
  {
   "cell_type": "code",
   "execution_count": 2,
   "outputs": [
    {
     "data": {
      "text/plain": "           CustomerId   Surname  CreditScore Geography  Gender  Age  Tenure  \\\nRowNumber                                                                     \n8203         15747647   Iadanza          589     Spain  Female   27       4   \n5068         15602282       Kao          587   Germany  Female   45       8   \n4735         15591740  Fletcher          590    France  Female   54       4   \n6419         15801924    Browne          754     Spain  Female   27       8   \n\n            Balance  NumOfProducts HasCrCard IsActiveMember  EstimatedSalary  \\\nRowNumber                                                                      \n8203           0.00              2       Yes             No        144181.48   \n5068      134980.74              1       Yes            Yes        123309.57   \n4735           0.00              2       Yes            Yes         93820.49   \n6419           0.00              2        No             No        121821.16   \n\n           Exited  \nRowNumber          \n8203            0  \n5068            1  \n4735            1  \n6419            0  ",
      "text/html": "<div>\n<style scoped>\n    .dataframe tbody tr th:only-of-type {\n        vertical-align: middle;\n    }\n\n    .dataframe tbody tr th {\n        vertical-align: top;\n    }\n\n    .dataframe thead th {\n        text-align: right;\n    }\n</style>\n<table border=\"1\" class=\"dataframe\">\n  <thead>\n    <tr style=\"text-align: right;\">\n      <th></th>\n      <th>CustomerId</th>\n      <th>Surname</th>\n      <th>CreditScore</th>\n      <th>Geography</th>\n      <th>Gender</th>\n      <th>Age</th>\n      <th>Tenure</th>\n      <th>Balance</th>\n      <th>NumOfProducts</th>\n      <th>HasCrCard</th>\n      <th>IsActiveMember</th>\n      <th>EstimatedSalary</th>\n      <th>Exited</th>\n    </tr>\n    <tr>\n      <th>RowNumber</th>\n      <th></th>\n      <th></th>\n      <th></th>\n      <th></th>\n      <th></th>\n      <th></th>\n      <th></th>\n      <th></th>\n      <th></th>\n      <th></th>\n      <th></th>\n      <th></th>\n      <th></th>\n    </tr>\n  </thead>\n  <tbody>\n    <tr>\n      <th>8203</th>\n      <td>15747647</td>\n      <td>Iadanza</td>\n      <td>589</td>\n      <td>Spain</td>\n      <td>Female</td>\n      <td>27</td>\n      <td>4</td>\n      <td>0.00</td>\n      <td>2</td>\n      <td>Yes</td>\n      <td>No</td>\n      <td>144181.48</td>\n      <td>0</td>\n    </tr>\n    <tr>\n      <th>5068</th>\n      <td>15602282</td>\n      <td>Kao</td>\n      <td>587</td>\n      <td>Germany</td>\n      <td>Female</td>\n      <td>45</td>\n      <td>8</td>\n      <td>134980.74</td>\n      <td>1</td>\n      <td>Yes</td>\n      <td>Yes</td>\n      <td>123309.57</td>\n      <td>1</td>\n    </tr>\n    <tr>\n      <th>4735</th>\n      <td>15591740</td>\n      <td>Fletcher</td>\n      <td>590</td>\n      <td>France</td>\n      <td>Female</td>\n      <td>54</td>\n      <td>4</td>\n      <td>0.00</td>\n      <td>2</td>\n      <td>Yes</td>\n      <td>Yes</td>\n      <td>93820.49</td>\n      <td>1</td>\n    </tr>\n    <tr>\n      <th>6419</th>\n      <td>15801924</td>\n      <td>Browne</td>\n      <td>754</td>\n      <td>Spain</td>\n      <td>Female</td>\n      <td>27</td>\n      <td>8</td>\n      <td>0.00</td>\n      <td>2</td>\n      <td>No</td>\n      <td>No</td>\n      <td>121821.16</td>\n      <td>0</td>\n    </tr>\n  </tbody>\n</table>\n</div>"
     },
     "execution_count": 2,
     "metadata": {},
     "output_type": "execute_result"
    }
   ],
   "source": [
    "churn = pd.read_csv('https://raw.githubusercontent.com/stivenlopezg/Diplomado-Python/master/data/Churn_Modelling.csv',\n",
    "                    index_col=0)\n",
    "\n",
    "for column in ['HasCrCard', 'IsActiveMember']:\n",
    "    churn[column] = churn[column].map({1: 'Yes', 0: 'No'})\n",
    "\n",
    "churn.sample(n=4)"
   ],
   "metadata": {
    "collapsed": false,
    "pycharm": {
     "name": "#%%\n"
    }
   }
  },
  {
   "cell_type": "code",
   "execution_count": 3,
   "outputs": [
    {
     "name": "stdout",
     "output_type": "stream",
     "text": [
      "<class 'pandas.core.frame.DataFrame'>\n",
      "Int64Index: 10000 entries, 1 to 10000\n",
      "Data columns (total 13 columns):\n",
      " #   Column           Non-Null Count  Dtype  \n",
      "---  ------           --------------  -----  \n",
      " 0   CustomerId       10000 non-null  int64  \n",
      " 1   Surname          10000 non-null  object \n",
      " 2   CreditScore      10000 non-null  int64  \n",
      " 3   Geography        10000 non-null  object \n",
      " 4   Gender           10000 non-null  object \n",
      " 5   Age              10000 non-null  int64  \n",
      " 6   Tenure           10000 non-null  int64  \n",
      " 7   Balance          10000 non-null  float64\n",
      " 8   NumOfProducts    10000 non-null  int64  \n",
      " 9   HasCrCard        10000 non-null  object \n",
      " 10  IsActiveMember   10000 non-null  object \n",
      " 11  EstimatedSalary  10000 non-null  float64\n",
      " 12  Exited           10000 non-null  int64  \n",
      "dtypes: float64(2), int64(6), object(5)\n",
      "memory usage: 1.1+ MB\n"
     ]
    }
   ],
   "source": [
    "churn.info()"
   ],
   "metadata": {
    "collapsed": false,
    "pycharm": {
     "name": "#%%\n"
    }
   }
  },
  {
   "cell_type": "code",
   "execution_count": 4,
   "outputs": [],
   "source": [
    "# datos nulos\n",
    "\n",
    "indices_cat = churn.sample(n=6, random_state=42).index\n",
    "indices_num = churn.sample(n=4, random_state=123).index\n",
    "\n",
    "churn.loc[indices_cat, 'Geography'] = np.nan\n",
    "churn.loc[indices_num, 'EstimatedSalary'] = np.nan"
   ],
   "metadata": {
    "collapsed": false,
    "pycharm": {
     "name": "#%%\n"
    }
   }
  },
  {
   "cell_type": "code",
   "execution_count": 5,
   "outputs": [
    {
     "data": {
      "text/plain": "CustomerId         0\nSurname            0\nCreditScore        0\nGeography          6\nGender             0\nAge                0\nTenure             0\nBalance            0\nNumOfProducts      0\nHasCrCard          0\nIsActiveMember     0\nEstimatedSalary    4\nExited             0\ndtype: int64"
     },
     "execution_count": 5,
     "metadata": {},
     "output_type": "execute_result"
    }
   ],
   "source": [
    "churn.isna().sum()"
   ],
   "metadata": {
    "collapsed": false,
    "pycharm": {
     "name": "#%%\n"
    }
   }
  },
  {
   "cell_type": "code",
   "execution_count": 7,
   "outputs": [
    {
     "data": {
      "text/plain": "<AxesSubplot:>"
     },
     "execution_count": 7,
     "metadata": {},
     "output_type": "execute_result"
    },
    {
     "data": {
      "text/plain": "<Figure size 1728x720 with 3 Axes>",
      "image/png": "[encoded data removed]"
     },
     "metadata": {
      "needs_background": "light"
     },
     "output_type": "display_data"
    }
   ],
   "source": [
    "msno.bar(churn)"
   ],
   "metadata": {
    "collapsed": false,
    "pycharm": {
     "name": "#%%\n"
    }
   }
  },
  {
   "cell_type": "code",
   "execution_count": 8,
   "outputs": [
    {
     "data": {
      "text/plain": "<AxesSubplot:>"
     },
     "execution_count": 8,
     "metadata": {},
     "output_type": "execute_result"
    },
    {
     "data": {
      "text/plain": "<Figure size 1440x864 with 2 Axes>",
      "image/png": "[encoded data removed]"
     },
     "metadata": {
      "needs_background": "light"
     },
     "output_type": "display_data"
    }
   ],
   "source": [
    "msno.heatmap(churn)"
   ],
   "metadata": {
    "collapsed": false,
    "pycharm": {
     "name": "#%%\n"
    }
   }
  },
  {
   "cell_type": "markdown",
   "source": [
    "## Validación cruzada y elección del modelo"
   ],
   "metadata": {
    "collapsed": false,
    "pycharm": {
     "name": "#%% md\n"
    }
   }
  },
  {
   "cell_type": "code",
   "execution_count": 9,
   "outputs": [
    {
     "name": "stdout",
     "output_type": "stream",
     "text": [
      "El set de entrenamiento tiene 7000 observaciones, y 12 variables.\n",
      "El set de prueba tiene 3000 observaciones, y 12 variables.\n"
     ]
    }
   ],
   "source": [
    "exited = churn.pop('Exited')\n",
    "\n",
    "train_data, test_data, train_label, test_label = train_test_split(churn, exited,\n",
    "                                                                  test_size=0.3,\n",
    "                                                                  stratify=exited, random_state=42)\n",
    "\n",
    "print(f'El set de entrenamiento tiene {train_data.shape[0]} observaciones, y {train_data.shape[1]} variables.')\n",
    "print(f'El set de prueba tiene {test_data.shape[0]} observaciones, y {test_data.shape[1]} variables.')"
   ],
   "metadata": {
    "collapsed": false,
    "pycharm": {
     "name": "#%%\n"
    }
   }
  },
  {
   "cell_type": "code",
   "execution_count": 10,
   "outputs": [],
   "source": [
    "numerical_features = ['CreditScore', 'Age', 'Tenure',\n",
    "                      'Balance', 'NumOfProducts', 'EstimatedSalary']\n",
    "\n",
    "categorical_features = ['Gender', 'Geography', 'HasCrCard', 'IsActiveMember']"
   ],
   "metadata": {
    "collapsed": false,
    "pycharm": {
     "name": "#%%\n"
    }
   }
  },
  {
   "cell_type": "code",
   "execution_count": 19,
   "outputs": [],
   "source": [
    "numeric_preprocessing = Pipeline(steps=[('imputer', SimpleImputer(strategy='median')),\n",
    "                                        ('scaler', StandardScaler())])\n",
    "\n",
    "categoric_preprocessing = Pipeline(steps=[('cat_imputer', SimpleImputer(strategy='most_frequent')),\n",
    "                                          ('ohe', OneHotEncoder(handle_unknown='ignore', sparse=False))])\n",
    "\n",
    "preprocessing = ColumnTransformer(transformers=[('numeric', numeric_preprocessing, numerical_features),\n",
    "                                                ('categorical', categoric_preprocessing, categorical_features)],\n",
    "                                  remainder='drop')"
   ],
   "metadata": {
    "collapsed": false,
    "pycharm": {
     "name": "#%%\n"
    }
   }
  },
  {
   "cell_type": "code",
   "execution_count": 23,
   "outputs": [],
   "source": [
    "lr = Pipeline(steps=[('preprocessing', preprocessing),\n",
    "                     ('logistic_regression', LogisticRegression(class_weight='balanced',\n",
    "                                                                random_state=42, n_jobs=-1))])\n",
    "\n",
    "dtree = Pipeline(steps=[('preprocessing', preprocessing),\n",
    "                        ('dtree', DecisionTreeClassifier(class_weight='balanced',\n",
    "                                                         random_state=42))])"
   ],
   "metadata": {
    "collapsed": false,
    "pycharm": {
     "name": "#%%\n"
    }
   }
  },
  {
   "cell_type": "markdown",
   "source": [
    "## Validación cruzada y elección del modelo"
   ],
   "metadata": {
    "collapsed": false,
    "pycharm": {
     "name": "#%% md\n"
    }
   }
  },
  {
   "cell_type": "code",
   "execution_count": 24,
   "outputs": [],
   "source": [
    "roc = {}\n",
    "\n",
    "roc['logistic_regression'] = cross_val_score(estimator=lr,\n",
    "                                             X=train_data, y=train_label, scoring='roc_auc', cv=5, n_jobs=-1)\n",
    "roc['decision_tree'] = cross_val_score(estimator=dtree,\n",
    "                                       X=train_data, y=train_label, scoring='roc_auc', cv=5, n_jobs=-1)"
   ],
   "metadata": {
    "collapsed": false,
    "pycharm": {
     "name": "#%%\n"
    }
   }
  },
  {
   "cell_type": "code",
   "execution_count": 26,
   "outputs": [
    {
     "data": {
      "text/plain": "   logistic_regression  decision_tree\n0                 0.74           0.66\n1                 0.76           0.68\n2                 0.78           0.67\n3                 0.74           0.68\n4                 0.76           0.66",
      "text/html": "<div>\n<style scoped>\n    .dataframe tbody tr th:only-of-type {\n        vertical-align: middle;\n    }\n\n    .dataframe tbody tr th {\n        vertical-align: top;\n    }\n\n    .dataframe thead th {\n        text-align: right;\n    }\n</style>\n<table border=\"1\" class=\"dataframe\">\n  <thead>\n    <tr style=\"text-align: right;\">\n      <th></th>\n      <th>logistic_regression</th>\n      <th>decision_tree</th>\n    </tr>\n  </thead>\n  <tbody>\n    <tr>\n      <th>0</th>\n      <td>0.74</td>\n      <td>0.66</td>\n    </tr>\n    <tr>\n      <th>1</th>\n      <td>0.76</td>\n      <td>0.68</td>\n    </tr>\n    <tr>\n      <th>2</th>\n      <td>0.78</td>\n      <td>0.67</td>\n    </tr>\n    <tr>\n      <th>3</th>\n      <td>0.74</td>\n      <td>0.68</td>\n    </tr>\n    <tr>\n      <th>4</th>\n      <td>0.76</td>\n      <td>0.66</td>\n    </tr>\n  </tbody>\n</table>\n</div>"
     },
     "execution_count": 26,
     "metadata": {},
     "output_type": "execute_result"
    }
   ],
   "source": [
    "roc = pd.DataFrame.from_dict(roc)\n",
    "roc"
   ],
   "metadata": {
    "collapsed": false,
    "pycharm": {
     "name": "#%%\n"
    }
   }
  },
  {
   "cell_type": "code",
   "execution_count": 27,
   "outputs": [
    {
     "data": {
      "text/plain": "<AxesSubplot:>"
     },
     "execution_count": 27,
     "metadata": {},
     "output_type": "execute_result"
    },
    {
     "data": {
      "text/plain": "<Figure size 432x288 with 1 Axes>",
      "image/png": "[encoded data removed]"
     },
     "metadata": {
      "needs_background": "light"
     },
     "output_type": "display_data"
    }
   ],
   "source": [
    "roc.plot(kind='box')"
   ],
   "metadata": {
    "collapsed": false,
    "pycharm": {
     "name": "#%%\n"
    }
   }
  },
  {
   "cell_type": "markdown",
   "source": [
    "## Optimizar hiperparametros"
   ],
   "metadata": {
    "collapsed": false,
    "pycharm": {
     "name": "#%% md\n"
    }
   }
  },
  {
   "cell_type": "code",
   "execution_count": 31,
   "outputs": [
    {
     "data": {
      "text/plain": "Pipeline(steps=[('preprocessing',\n                 ColumnTransformer(transformers=[('numeric',\n                                                  Pipeline(steps=[('imputer',\n                                                                   SimpleImputer(strategy='median')),\n                                                                  ('scaler',\n                                                                   StandardScaler())]),\n                                                  ['CreditScore', 'Age',\n                                                   'Tenure', 'Balance',\n                                                   'NumOfProducts',\n                                                   'EstimatedSalary']),\n                                                 ('categorical',\n                                                  Pipeline(steps=[('cat_imputer',\n                                                                   SimpleImputer(strategy='most_frequent')),\n                                                                  ('ohe',\n                                                                   OneHotEncoder(handle_unknown='ignore',\n                                                                                 sparse=False))]),\n                                                  ['Gender', 'Geography',\n                                                   'HasCrCard',\n                                                   'IsActiveMember'])])),\n                ('logistic_regression',\n                 LogisticRegression(class_weight='balanced', n_jobs=-1,\n                                    random_state=42))])",
      "text/html": "<style>div.sk-top-container {color: black;background-color: white;}div.sk-toggleable {background-color: white;}label.sk-toggleable__label {cursor: pointer;display: block;width: 100%;margin-bottom: 0;padding: 0.2em 0.3em;box-sizing: border-box;text-align: center;}div.sk-toggleable__content {max-height: 0;max-width: 0;overflow: hidden;text-align: left;background-color: #f0f8ff;}div.sk-toggleable__content pre {margin: 0.2em;color: black;border-radius: 0.25em;background-color: #f0f8ff;}input.sk-toggleable__control:checked~div.sk-toggleable__content {max-height: 200px;max-width: 100%;overflow: auto;}div.sk-estimator input.sk-toggleable__control:checked~label.sk-toggleable__label {background-color: #d4ebff;}div.sk-label input.sk-toggleable__control:checked~label.sk-toggleable__label {background-color: #d4ebff;}input.sk-hidden--visually {border: 0;clip: rect(1px 1px 1px 1px);clip: rect(1px, 1px, 1px, 1px);height: 1px;margin: -1px;overflow: hidden;padding: 0;position: absolute;width: 1px;}div.sk-estimator {font-family: monospace;background-color: #f0f8ff;margin: 0.25em 0.25em;border: 1px dotted black;border-radius: 0.25em;box-sizing: border-box;}div.sk-estimator:hover {background-color: #d4ebff;}div.sk-parallel-item::after {content: \"\";width: 100%;border-bottom: 1px solid gray;flex-grow: 1;}div.sk-label:hover label.sk-toggleable__label {background-color: #d4ebff;}div.sk-serial::before {content: \"\";position: absolute;border-left: 1px solid gray;box-sizing: border-box;top: 2em;bottom: 0;left: 50%;}div.sk-serial {display: flex;flex-direction: column;align-items: center;background-color: white;}div.sk-item {z-index: 1;}div.sk-parallel {display: flex;align-items: stretch;justify-content: center;background-color: white;}div.sk-parallel-item {display: flex;flex-direction: column;position: relative;background-color: white;}div.sk-parallel-item:first-child::after {align-self: flex-end;width: 50%;}div.sk-parallel-item:last-child::after {align-self: flex-start;width: 50%;}div.sk-parallel-item:only-child::after {width: 0;}div.sk-dashed-wrapped {border: 1px dashed gray;margin: 0.2em;box-sizing: border-box;padding-bottom: 0.1em;background-color: white;position: relative;}div.sk-label label {font-family: monospace;font-weight: bold;background-color: white;display: inline-block;line-height: 1.2em;}div.sk-label-container {position: relative;z-index: 2;text-align: center;}div.sk-container {display: inline-block;position: relative;}</style><div class=\"sk-top-container\"><div class=\"sk-container\"><div class=\"sk-item sk-dashed-wrapped\"><div class=\"sk-label-container\"><div class=\"sk-label sk-toggleable\"><input class=\"sk-toggleable__control sk-hidden--visually\" id=\"fcf4d13b-2d98-4445-9d06-e86ffea203ab\" type=\"checkbox\" ><label class=\"sk-toggleable__label\" for=\"fcf4d13b-2d98-4445-9d06-e86ffea203ab\">Pipeline</label><div class=\"sk-toggleable__content\"><pre>Pipeline(steps=[('preprocessing',\n                 ColumnTransformer(transformers=[('numeric',\n                                                  Pipeline(steps=[('imputer',\n                                                                   SimpleImputer(strategy='median')),\n                                                                  ('scaler',\n                                                                   StandardScaler())]),\n                                                  ['CreditScore', 'Age',\n                                                   'Tenure', 'Balance',\n                                                   'NumOfProducts',\n                                                   'EstimatedSalary']),\n                                                 ('categorical',\n                                                  Pipeline(steps=[('cat_imputer',\n                                                                   SimpleImputer(strategy='most_frequent')),\n                                                                  ('ohe',\n                                                                   OneHotEncoder(handle_unknown='ignore',\n                                                                                 sparse=False))]),\n                                                  ['Gender', 'Geography',\n                                                   'HasCrCard',\n                                                   'IsActiveMember'])])),\n                ('logistic_regression',\n                 LogisticRegression(class_weight='balanced', n_jobs=-1,\n                                    random_state=42))])</pre></div></div></div><div class=\"sk-serial\"><div class=\"sk-item sk-dashed-wrapped\"><div class=\"sk-label-container\"><div class=\"sk-label sk-toggleable\"><input class=\"sk-toggleable__control sk-hidden--visually\" id=\"24f25474-dd0d-46d3-b935-d5660cbdafb7\" type=\"checkbox\" ><label class=\"sk-toggleable__label\" for=\"24f25474-dd0d-46d3-b935-d5660cbdafb7\">preprocessing: ColumnTransformer</label><div class=\"sk-toggleable__content\"><pre>ColumnTransformer(transformers=[('numeric',\n                                 Pipeline(steps=[('imputer',\n                                                  SimpleImputer(strategy='median')),\n                                                 ('scaler', StandardScaler())]),\n                                 ['CreditScore', 'Age', 'Tenure', 'Balance',\n                                  'NumOfProducts', 'EstimatedSalary']),\n                                ('categorical',\n                                 Pipeline(steps=[('cat_imputer',\n                                                  SimpleImputer(strategy='most_frequent')),\n                                                 ('ohe',\n                                                  OneHotEncoder(handle_unknown='ignore',\n                                                                sparse=False))]),\n                                 ['Gender', 'Geography', 'HasCrCard',\n                                  'IsActiveMember'])])</pre></div></div></div><div class=\"sk-parallel\"><div class=\"sk-parallel-item\"><div class=\"sk-item\"><div class=\"sk-label-container\"><div class=\"sk-label sk-toggleable\"><input class=\"sk-toggleable__control sk-hidden--visually\" id=\"51a280b8-6f0b-40cb-84d7-1308618ea5f3\" type=\"checkbox\" ><label class=\"sk-toggleable__label\" for=\"51a280b8-6f0b-40cb-84d7-1308618ea5f3\">numeric</label><div class=\"sk-toggleable__content\"><pre>['CreditScore', 'Age', 'Tenure', 'Balance', 'NumOfProducts', 'EstimatedSalary']</pre></div></div></div><div class=\"sk-serial\"><div class=\"sk-item\"><div class=\"sk-serial\"><div class=\"sk-item\"><div class=\"sk-estimator sk-toggleable\"><input class=\"sk-toggleable__control sk-hidden--visually\" id=\"c0ed0cb6-5565-4894-946f-72a94b2b3fe0\" type=\"checkbox\" ><label class=\"sk-toggleable__label\" for=\"c0ed0cb6-5565-4894-946f-72a94b2b3fe0\">SimpleImputer</label><div class=\"sk-toggleable__content\"><pre>SimpleImputer(strategy='median')</pre></div></div></div><div class=\"sk-item\"><div class=\"sk-estimator sk-toggleable\"><input class=\"sk-toggleable__control sk-hidden--visually\" id=\"cf9518dc-ca19-4270-8a68-a0bc7b1be3f1\" type=\"checkbox\" ><label class=\"sk-toggleable__label\" for=\"cf9518dc-ca19-4270-8a68-a0bc7b1be3f1\">StandardScaler</label><div class=\"sk-toggleable__content\"><pre>StandardScaler()</pre></div></div></div></div></div></div></div></div><div class=\"sk-parallel-item\"><div class=\"sk-item\"><div class=\"sk-label-container\"><div class=\"sk-label sk-toggleable\"><input class=\"sk-toggleable__control sk-hidden--visually\" id=\"e1233ef2-9066-4260-bb38-03ce15d8502e\" type=\"checkbox\" ><label class=\"sk-toggleable__label\" for=\"e1233ef2-9066-4260-bb38-03ce15d8502e\">categorical</label><div class=\"sk-toggleable__content\"><pre>['Gender', 'Geography', 'HasCrCard', 'IsActiveMember']</pre></div></div></div><div class=\"sk-serial\"><div class=\"sk-item\"><div class=\"sk-serial\"><div class=\"sk-item\"><div class=\"sk-estimator sk-toggleable\"><input class=\"sk-toggleable__control sk-hidden--visually\" id=\"ecf64032-2664-48ae-94ae-86922d121c07\" type=\"checkbox\" ><label class=\"sk-toggleable__label\" for=\"ecf64032-2664-48ae-94ae-86922d121c07\">SimpleImputer</label><div class=\"sk-toggleable__content\"><pre>SimpleImputer(strategy='most_frequent')</pre></div></div></div><div class=\"sk-item\"><div class=\"sk-estimator sk-toggleable\"><input class=\"sk-toggleable__control sk-hidden--visually\" id=\"54d81100-cd78-4e2b-883a-63e4d93922bf\" type=\"checkbox\" ><label class=\"sk-toggleable__label\" for=\"54d81100-cd78-4e2b-883a-63e4d93922bf\">OneHotEncoder</label><div class=\"sk-toggleable__content\"><pre>OneHotEncoder(handle_unknown='ignore', sparse=False)</pre></div></div></div></div></div></div></div></div></div></div><div class=\"sk-item\"><div class=\"sk-estimator sk-toggleable\"><input class=\"sk-toggleable__control sk-hidden--visually\" id=\"21946d33-a252-4bb5-9ade-dcc5a2e58ff7\" type=\"checkbox\" ><label class=\"sk-toggleable__label\" for=\"21946d33-a252-4bb5-9ade-dcc5a2e58ff7\">LogisticRegression</label><div class=\"sk-toggleable__content\"><pre>LogisticRegression(class_weight='balanced', n_jobs=-1, random_state=42)</pre></div></div></div></div></div></div></div>"
     },
     "execution_count": 31,
     "metadata": {},
     "output_type": "execute_result"
    }
   ],
   "source": [
    "set_config(display='diagram')\n",
    "\n",
    "lr = Pipeline(steps=[('preprocessing', preprocessing),\n",
    "                     ('logistic_regression', LogisticRegression(class_weight='balanced',\n",
    "                                                                random_state=42, n_jobs=-1))])\n",
    "\n",
    "lr.fit(train_data, train_label)"
   ],
   "metadata": {
    "collapsed": false,
    "pycharm": {
     "name": "#%%\n"
    }
   }
  },
  {
   "cell_type": "code",
   "execution_count": 32,
   "outputs": [
    {
     "name": "stdout",
     "output_type": "stream",
     "text": [
      "La exactitud en el set de entrenamiento es: 0.7037142857142857\n"
     ]
    }
   ],
   "source": [
    "print(f'La exactitud en el set de entrenamiento es: {lr.score(train_data, train_label)}')"
   ],
   "metadata": {
    "collapsed": false,
    "pycharm": {
     "name": "#%%\n"
    }
   }
  },
  {
   "cell_type": "code",
   "execution_count": 33,
   "outputs": [
    {
     "data": {
      "text/plain": "              precision  recall  f1-score  support\n0                  0.91    0.72      0.80  2389.00\n1                  0.40    0.73      0.51   611.00\naccuracy           0.72    0.72      0.72     0.72\nmacro avg          0.65    0.72      0.66  3000.00\nweighted avg       0.81    0.72      0.74  3000.00",
      "text/html": "<div>\n<style scoped>\n    .dataframe tbody tr th:only-of-type {\n        vertical-align: middle;\n    }\n\n    .dataframe tbody tr th {\n        vertical-align: top;\n    }\n\n    .dataframe thead th {\n        text-align: right;\n    }\n</style>\n<table border=\"1\" class=\"dataframe\">\n  <thead>\n    <tr style=\"text-align: right;\">\n      <th></th>\n      <th>precision</th>\n      <th>recall</th>\n      <th>f1-score</th>\n      <th>support</th>\n    </tr>\n  </thead>\n  <tbody>\n    <tr>\n      <th>0</th>\n      <td>0.91</td>\n      <td>0.72</td>\n      <td>0.80</td>\n      <td>2389.00</td>\n    </tr>\n    <tr>\n      <th>1</th>\n      <td>0.40</td>\n      <td>0.73</td>\n      <td>0.51</td>\n      <td>611.00</td>\n    </tr>\n    <tr>\n      <th>accuracy</th>\n      <td>0.72</td>\n      <td>0.72</td>\n      <td>0.72</td>\n      <td>0.72</td>\n    </tr>\n    <tr>\n      <th>macro avg</th>\n      <td>0.65</td>\n      <td>0.72</td>\n      <td>0.66</td>\n      <td>3000.00</td>\n    </tr>\n    <tr>\n      <th>weighted avg</th>\n      <td>0.81</td>\n      <td>0.72</td>\n      <td>0.74</td>\n      <td>3000.00</td>\n    </tr>\n  </tbody>\n</table>\n</div>"
     },
     "execution_count": 33,
     "metadata": {},
     "output_type": "execute_result"
    }
   ],
   "source": [
    "evaluation = ModelEvaluation(observed=test_label, predicted=lr.predict(test_data))\n",
    "evaluation.generate_report()"
   ],
   "metadata": {
    "collapsed": false,
    "pycharm": {
     "name": "#%%\n"
    }
   }
  },
  {
   "cell_type": "code",
   "execution_count": 35,
   "outputs": [
    {
     "name": "stdout",
     "output_type": "stream",
     "text": [
      "El AUC es: 0.72\n",
      "El accuracy es: 0.72\n",
      "La precision es: 0.81\n",
      "El recall es: 0.72\n",
      "El F1 Score es: 0.74 \n",
      "\n"
     ]
    },
    {
     "data": {
      "text/plain": "Predicted    0    1\nObserved           \n0         0.72 0.28\n1         0.27 0.73",
      "text/html": "<div>\n<style scoped>\n    .dataframe tbody tr th:only-of-type {\n        vertical-align: middle;\n    }\n\n    .dataframe tbody tr th {\n        vertical-align: top;\n    }\n\n    .dataframe thead th {\n        text-align: right;\n    }\n</style>\n<table border=\"1\" class=\"dataframe\">\n  <thead>\n    <tr style=\"text-align: right;\">\n      <th>Predicted</th>\n      <th>0</th>\n      <th>1</th>\n    </tr>\n    <tr>\n      <th>Observed</th>\n      <th></th>\n      <th></th>\n    </tr>\n  </thead>\n  <tbody>\n    <tr>\n      <th>0</th>\n      <td>0.72</td>\n      <td>0.28</td>\n    </tr>\n    <tr>\n      <th>1</th>\n      <td>0.27</td>\n      <td>0.73</td>\n    </tr>\n  </tbody>\n</table>\n</div>"
     },
     "execution_count": 35,
     "metadata": {},
     "output_type": "execute_result"
    }
   ],
   "source": [
    "evaluation.calculate_metrics()\n",
    "evaluation.print_metrics()\n",
    "evaluation.confusion_matrix()"
   ],
   "metadata": {
    "collapsed": false,
    "pycharm": {
     "name": "#%%\n"
    }
   }
  },
  {
   "cell_type": "code",
   "execution_count": 36,
   "outputs": [],
   "source": [
    "from sklearn.model_selection import GridSearchCV, RandomizedSearchCV"
   ],
   "metadata": {
    "collapsed": false,
    "pycharm": {
     "name": "#%%\n"
    }
   }
  },
  {
   "cell_type": "code",
   "execution_count": 37,
   "outputs": [
    {
     "data": {
      "text/plain": "GridSearchCV(cv=5,\n             estimator=Pipeline(steps=[('preprocessing',\n                                        ColumnTransformer(transformers=[('numeric',\n                                                                         Pipeline(steps=[('imputer',\n                                                                                          SimpleImputer(strategy='median')),\n                                                                                         ('scaler',\n                                                                                          StandardScaler())]),\n                                                                         ['CreditScore',\n                                                                          'Age',\n                                                                          'Tenure',\n                                                                          'Balance',\n                                                                          'NumOfProducts',\n                                                                          'EstimatedSalary']),\n                                                                        ('categorical',\n                                                                         Pipeline(steps=[('cat_imputer',\n                                                                                          SimpleImputer(strategy='most_freq...\n                                                                                          OneHotEncoder(handle_unknown='ignore',\n                                                                                                        sparse=False))]),\n                                                                         ['Gender',\n                                                                          'Geography',\n                                                                          'HasCrCard',\n                                                                          'IsActiveMember'])])),\n                                       ('logistic_regression',\n                                        LogisticRegression(n_jobs=-1,\n                                                           random_state=42))]),\n             n_jobs=-1,\n             param_grid={'logistic_regression__class_weight': ['balanced',\n                                                               None],\n                         'logistic_regression__fit_intercept': [True, False],\n                         'logistic_regression__penalty': ['l1', 'l2']},\n             scoring='roc_auc')",
      "text/html": "<style>div.sk-top-container {color: black;background-color: white;}div.sk-toggleable {background-color: white;}label.sk-toggleable__label {cursor: pointer;display: block;width: 100%;margin-bottom: 0;padding: 0.2em 0.3em;box-sizing: border-box;text-align: center;}div.sk-toggleable__content {max-height: 0;max-width: 0;overflow: hidden;text-align: left;background-color: #f0f8ff;}div.sk-toggleable__content pre {margin: 0.2em;color: black;border-radius: 0.25em;background-color: #f0f8ff;}input.sk-toggleable__control:checked~div.sk-toggleable__content {max-height: 200px;max-width: 100%;overflow: auto;}div.sk-estimator input.sk-toggleable__control:checked~label.sk-toggleable__label {background-color: #d4ebff;}div.sk-label input.sk-toggleable__control:checked~label.sk-toggleable__label {background-color: #d4ebff;}input.sk-hidden--visually {border: 0;clip: rect(1px 1px 1px 1px);clip: rect(1px, 1px, 1px, 1px);height: 1px;margin: -1px;overflow: hidden;padding: 0;position: absolute;width: 1px;}div.sk-estimator {font-family: monospace;background-color: #f0f8ff;margin: 0.25em 0.25em;border: 1px dotted black;border-radius: 0.25em;box-sizing: border-box;}div.sk-estimator:hover {background-color: #d4ebff;}div.sk-parallel-item::after {content: \"\";width: 100%;border-bottom: 1px solid gray;flex-grow: 1;}div.sk-label:hover label.sk-toggleable__label {background-color: #d4ebff;}div.sk-serial::before {content: \"\";position: absolute;border-left: 1px solid gray;box-sizing: border-box;top: 2em;bottom: 0;left: 50%;}div.sk-serial {display: flex;flex-direction: column;align-items: center;background-color: white;}div.sk-item {z-index: 1;}div.sk-parallel {display: flex;align-items: stretch;justify-content: center;background-color: white;}div.sk-parallel-item {display: flex;flex-direction: column;position: relative;background-color: white;}div.sk-parallel-item:first-child::after {align-self: flex-end;width: 50%;}div.sk-parallel-item:last-child::after {align-self: flex-start;width: 50%;}div.sk-parallel-item:only-child::after {width: 0;}div.sk-dashed-wrapped {border: 1px dashed gray;margin: 0.2em;box-sizing: border-box;padding-bottom: 0.1em;background-color: white;position: relative;}div.sk-label label {font-family: monospace;font-weight: bold;background-color: white;display: inline-block;line-height: 1.2em;}div.sk-label-container {position: relative;z-index: 2;text-align: center;}div.sk-container {display: inline-block;position: relative;}</style><div class=\"sk-top-container\"><div class=\"sk-container\"><div class=\"sk-item sk-dashed-wrapped\"><div class=\"sk-label-container\"><div class=\"sk-label sk-toggleable\"><input class=\"sk-toggleable__control sk-hidden--visually\" id=\"d5605cf4-745f-4602-a17c-8bab6336acad\" type=\"checkbox\" ><label class=\"sk-toggleable__label\" for=\"d5605cf4-745f-4602-a17c-8bab6336acad\">GridSearchCV</label><div class=\"sk-toggleable__content\"><pre>GridSearchCV(cv=5,\n             estimator=Pipeline(steps=[('preprocessing',\n                                        ColumnTransformer(transformers=[('numeric',\n                                                                         Pipeline(steps=[('imputer',\n                                                                                          SimpleImputer(strategy='median')),\n                                                                                         ('scaler',\n                                                                                          StandardScaler())]),\n                                                                         ['CreditScore',\n                                                                          'Age',\n                                                                          'Tenure',\n                                                                          'Balance',\n                                                                          'NumOfProducts',\n                                                                          'EstimatedSalary']),\n                                                                        ('categorical',\n                                                                         Pipeline(steps=[('cat_imputer',\n                                                                                          SimpleImputer(strategy='most_freq...\n                                                                                          OneHotEncoder(handle_unknown='ignore',\n                                                                                                        sparse=False))]),\n                                                                         ['Gender',\n                                                                          'Geography',\n                                                                          'HasCrCard',\n                                                                          'IsActiveMember'])])),\n                                       ('logistic_regression',\n                                        LogisticRegression(n_jobs=-1,\n                                                           random_state=42))]),\n             n_jobs=-1,\n             param_grid={'logistic_regression__class_weight': ['balanced',\n                                                               None],\n                         'logistic_regression__fit_intercept': [True, False],\n                         'logistic_regression__penalty': ['l1', 'l2']},\n             scoring='roc_auc')</pre></div></div></div><div class=\"sk-parallel\"><div class=\"sk-parallel-item\"><div class=\"sk-item\"><div class=\"sk-serial\"><div class=\"sk-item\"><div class=\"sk-serial\"><div class=\"sk-item sk-dashed-wrapped\"><div class=\"sk-label-container\"><div class=\"sk-label sk-toggleable\"><input class=\"sk-toggleable__control sk-hidden--visually\" id=\"c29b1cb7-576c-4578-9190-9137744f644e\" type=\"checkbox\" ><label class=\"sk-toggleable__label\" for=\"c29b1cb7-576c-4578-9190-9137744f644e\">preprocessing: ColumnTransformer</label><div class=\"sk-toggleable__content\"><pre>ColumnTransformer(transformers=[('numeric',\n                                 Pipeline(steps=[('imputer',\n                                                  SimpleImputer(strategy='median')),\n                                                 ('scaler', StandardScaler())]),\n                                 ['CreditScore', 'Age', 'Tenure', 'Balance',\n                                  'NumOfProducts', 'EstimatedSalary']),\n                                ('categorical',\n                                 Pipeline(steps=[('cat_imputer',\n                                                  SimpleImputer(strategy='most_frequent')),\n                                                 ('ohe',\n                                                  OneHotEncoder(handle_unknown='ignore',\n                                                                sparse=False))]),\n                                 ['Gender', 'Geography', 'HasCrCard',\n                                  'IsActiveMember'])])</pre></div></div></div><div class=\"sk-parallel\"><div class=\"sk-parallel-item\"><div class=\"sk-item\"><div class=\"sk-label-container\"><div class=\"sk-label sk-toggleable\"><input class=\"sk-toggleable__control sk-hidden--visually\" id=\"5b2748f6-9c34-4b38-b2a7-464cd0739959\" type=\"checkbox\" ><label class=\"sk-toggleable__label\" for=\"5b2748f6-9c34-4b38-b2a7-464cd0739959\">numeric</label><div class=\"sk-toggleable__content\"><pre>['CreditScore', 'Age', 'Tenure', 'Balance', 'NumOfProducts', 'EstimatedSalary']</pre></div></div></div><div class=\"sk-serial\"><div class=\"sk-item\"><div class=\"sk-serial\"><div class=\"sk-item\"><div class=\"sk-estimator sk-toggleable\"><input class=\"sk-toggleable__control sk-hidden--visually\" id=\"fba675c8-1200-4059-a4a7-249a3ceac8be\" type=\"checkbox\" ><label class=\"sk-toggleable__label\" for=\"fba675c8-1200-4059-a4a7-249a3ceac8be\">SimpleImputer</label><div class=\"sk-toggleable__content\"><pre>SimpleImputer(strategy='median')</pre></div></div></div><div class=\"sk-item\"><div class=\"sk-estimator sk-toggleable\"><input class=\"sk-toggleable__control sk-hidden--visually\" id=\"3c680891-0247-40cd-b7be-90de378c8c06\" type=\"checkbox\" ><label class=\"sk-toggleable__label\" for=\"3c680891-0247-40cd-b7be-90de378c8c06\">StandardScaler</label><div class=\"sk-toggleable__content\"><pre>StandardScaler()</pre></div></div></div></div></div></div></div></div><div class=\"sk-parallel-item\"><div class=\"sk-item\"><div class=\"sk-label-container\"><div class=\"sk-label sk-toggleable\"><input class=\"sk-toggleable__control sk-hidden--visually\" id=\"adc068e7-c489-4996-aad8-b81bb8f5d8d6\" type=\"checkbox\" ><label class=\"sk-toggleable__label\" for=\"adc068e7-c489-4996-aad8-b81bb8f5d8d6\">categorical</label><div class=\"sk-toggleable__content\"><pre>['Gender', 'Geography', 'HasCrCard', 'IsActiveMember']</pre></div></div></div><div class=\"sk-serial\"><div class=\"sk-item\"><div class=\"sk-serial\"><div class=\"sk-item\"><div class=\"sk-estimator sk-toggleable\"><input class=\"sk-toggleable__control sk-hidden--visually\" id=\"d152931d-223b-462e-93d9-b799d4f2dbc6\" type=\"checkbox\" ><label class=\"sk-toggleable__label\" for=\"d152931d-223b-462e-93d9-b799d4f2dbc6\">SimpleImputer</label><div class=\"sk-toggleable__content\"><pre>SimpleImputer(strategy='most_frequent')</pre></div></div></div><div class=\"sk-item\"><div class=\"sk-estimator sk-toggleable\"><input class=\"sk-toggleable__control sk-hidden--visually\" id=\"3e76e1d1-73ec-4b1a-a459-fcfb8aa132ed\" type=\"checkbox\" ><label class=\"sk-toggleable__label\" for=\"3e76e1d1-73ec-4b1a-a459-fcfb8aa132ed\">OneHotEncoder</label><div class=\"sk-toggleable__content\"><pre>OneHotEncoder(handle_unknown='ignore', sparse=False)</pre></div></div></div></div></div></div></div></div></div></div><div class=\"sk-item\"><div class=\"sk-estimator sk-toggleable\"><input class=\"sk-toggleable__control sk-hidden--visually\" id=\"ff57e7e0-a48e-4f8f-8264-06367b16b5d4\" type=\"checkbox\" ><label class=\"sk-toggleable__label\" for=\"ff57e7e0-a48e-4f8f-8264-06367b16b5d4\">LogisticRegression</label><div class=\"sk-toggleable__content\"><pre>LogisticRegression(n_jobs=-1, random_state=42)</pre></div></div></div></div></div></div></div></div></div></div></div></div>"
     },
     "execution_count": 37,
     "metadata": {},
     "output_type": "execute_result"
    }
   ],
   "source": [
    "params = {'logistic_regression__penalty': ['l1', 'l2'],\n",
    "          'logistic_regression__fit_intercept': [True, False],\n",
    "          'logistic_regression__class_weight': ['balanced', None]}\n",
    "\n",
    "lr = Pipeline(steps=[('preprocessing', preprocessing),\n",
    "                     ('logistic_regression', LogisticRegression(random_state=42, n_jobs=-1))])\n",
    "\n",
    "lr_cv = GridSearchCV(estimator=lr, param_grid=params, scoring='roc_auc', n_jobs=-1, cv=5)\n",
    "\n",
    "lr_cv.fit(train_data, train_label)"
   ],
   "metadata": {
    "collapsed": false,
    "pycharm": {
     "name": "#%%\n"
    }
   }
  },
  {
   "cell_type": "code",
   "execution_count": 38,
   "outputs": [
    {
     "data": {
      "text/plain": "{'logistic_regression__class_weight': 'balanced',\n 'logistic_regression__fit_intercept': False,\n 'logistic_regression__penalty': 'l2'}"
     },
     "execution_count": 38,
     "metadata": {},
     "output_type": "execute_result"
    }
   ],
   "source": [
    "lr_cv.best_params_"
   ],
   "metadata": {
    "collapsed": false,
    "pycharm": {
     "name": "#%%\n"
    }
   }
  },
  {
   "cell_type": "code",
   "execution_count": 39,
   "outputs": [
    {
     "data": {
      "text/plain": "Pipeline(steps=[('preprocessing',\n                 ColumnTransformer(transformers=[('numeric',\n                                                  Pipeline(steps=[('imputer',\n                                                                   SimpleImputer(strategy='median')),\n                                                                  ('scaler',\n                                                                   StandardScaler())]),\n                                                  ['CreditScore', 'Age',\n                                                   'Tenure', 'Balance',\n                                                   'NumOfProducts',\n                                                   'EstimatedSalary']),\n                                                 ('categorical',\n                                                  Pipeline(steps=[('cat_imputer',\n                                                                   SimpleImputer(strategy='most_frequent')),\n                                                                  ('ohe',\n                                                                   OneHotEncoder(handle_unknown='ignore',\n                                                                                 sparse=False))]),\n                                                  ['Gender', 'Geography',\n                                                   'HasCrCard',\n                                                   'IsActiveMember'])])),\n                ('logistic_regression',\n                 LogisticRegression(class_weight='balanced',\n                                    fit_intercept=False, n_jobs=-1,\n                                    random_state=42))])",
      "text/html": "<style>div.sk-top-container {color: black;background-color: white;}div.sk-toggleable {background-color: white;}label.sk-toggleable__label {cursor: pointer;display: block;width: 100%;margin-bottom: 0;padding: 0.2em 0.3em;box-sizing: border-box;text-align: center;}div.sk-toggleable__content {max-height: 0;max-width: 0;overflow: hidden;text-align: left;background-color: #f0f8ff;}div.sk-toggleable__content pre {margin: 0.2em;color: black;border-radius: 0.25em;background-color: #f0f8ff;}input.sk-toggleable__control:checked~div.sk-toggleable__content {max-height: 200px;max-width: 100%;overflow: auto;}div.sk-estimator input.sk-toggleable__control:checked~label.sk-toggleable__label {background-color: #d4ebff;}div.sk-label input.sk-toggleable__control:checked~label.sk-toggleable__label {background-color: #d4ebff;}input.sk-hidden--visually {border: 0;clip: rect(1px 1px 1px 1px);clip: rect(1px, 1px, 1px, 1px);height: 1px;margin: -1px;overflow: hidden;padding: 0;position: absolute;width: 1px;}div.sk-estimator {font-family: monospace;background-color: #f0f8ff;margin: 0.25em 0.25em;border: 1px dotted black;border-radius: 0.25em;box-sizing: border-box;}div.sk-estimator:hover {background-color: #d4ebff;}div.sk-parallel-item::after {content: \"\";width: 100%;border-bottom: 1px solid gray;flex-grow: 1;}div.sk-label:hover label.sk-toggleable__label {background-color: #d4ebff;}div.sk-serial::before {content: \"\";position: absolute;border-left: 1px solid gray;box-sizing: border-box;top: 2em;bottom: 0;left: 50%;}div.sk-serial {display: flex;flex-direction: column;align-items: center;background-color: white;}div.sk-item {z-index: 1;}div.sk-parallel {display: flex;align-items: stretch;justify-content: center;background-color: white;}div.sk-parallel-item {display: flex;flex-direction: column;position: relative;background-color: white;}div.sk-parallel-item:first-child::after {align-self: flex-end;width: 50%;}div.sk-parallel-item:last-child::after {align-self: flex-start;width: 50%;}div.sk-parallel-item:only-child::after {width: 0;}div.sk-dashed-wrapped {border: 1px dashed gray;margin: 0.2em;box-sizing: border-box;padding-bottom: 0.1em;background-color: white;position: relative;}div.sk-label label {font-family: monospace;font-weight: bold;background-color: white;display: inline-block;line-height: 1.2em;}div.sk-label-container {position: relative;z-index: 2;text-align: center;}div.sk-container {display: inline-block;position: relative;}</style><div class=\"sk-top-container\"><div class=\"sk-container\"><div class=\"sk-item sk-dashed-wrapped\"><div class=\"sk-label-container\"><div class=\"sk-label sk-toggleable\"><input class=\"sk-toggleable__control sk-hidden--visually\" id=\"8bcae0ac-c25d-4f28-9fdc-902e78476fde\" type=\"checkbox\" ><label class=\"sk-toggleable__label\" for=\"8bcae0ac-c25d-4f28-9fdc-902e78476fde\">Pipeline</label><div class=\"sk-toggleable__content\"><pre>Pipeline(steps=[('preprocessing',\n                 ColumnTransformer(transformers=[('numeric',\n                                                  Pipeline(steps=[('imputer',\n                                                                   SimpleImputer(strategy='median')),\n                                                                  ('scaler',\n                                                                   StandardScaler())]),\n                                                  ['CreditScore', 'Age',\n                                                   'Tenure', 'Balance',\n                                                   'NumOfProducts',\n                                                   'EstimatedSalary']),\n                                                 ('categorical',\n                                                  Pipeline(steps=[('cat_imputer',\n                                                                   SimpleImputer(strategy='most_frequent')),\n                                                                  ('ohe',\n                                                                   OneHotEncoder(handle_unknown='ignore',\n                                                                                 sparse=False))]),\n                                                  ['Gender', 'Geography',\n                                                   'HasCrCard',\n                                                   'IsActiveMember'])])),\n                ('logistic_regression',\n                 LogisticRegression(class_weight='balanced',\n                                    fit_intercept=False, n_jobs=-1,\n                                    random_state=42))])</pre></div></div></div><div class=\"sk-serial\"><div class=\"sk-item sk-dashed-wrapped\"><div class=\"sk-label-container\"><div class=\"sk-label sk-toggleable\"><input class=\"sk-toggleable__control sk-hidden--visually\" id=\"2366c83d-956e-4d10-97a3-0a52305a3064\" type=\"checkbox\" ><label class=\"sk-toggleable__label\" for=\"2366c83d-956e-4d10-97a3-0a52305a3064\">preprocessing: ColumnTransformer</label><div class=\"sk-toggleable__content\"><pre>ColumnTransformer(transformers=[('numeric',\n                                 Pipeline(steps=[('imputer',\n                                                  SimpleImputer(strategy='median')),\n                                                 ('scaler', StandardScaler())]),\n                                 ['CreditScore', 'Age', 'Tenure', 'Balance',\n                                  'NumOfProducts', 'EstimatedSalary']),\n                                ('categorical',\n                                 Pipeline(steps=[('cat_imputer',\n                                                  SimpleImputer(strategy='most_frequent')),\n                                                 ('ohe',\n                                                  OneHotEncoder(handle_unknown='ignore',\n                                                                sparse=False))]),\n                                 ['Gender', 'Geography', 'HasCrCard',\n                                  'IsActiveMember'])])</pre></div></div></div><div class=\"sk-parallel\"><div class=\"sk-parallel-item\"><div class=\"sk-item\"><div class=\"sk-label-container\"><div class=\"sk-label sk-toggleable\"><input class=\"sk-toggleable__control sk-hidden--visually\" id=\"d806b0be-2760-4b9b-923a-1bcfa2bc80c7\" type=\"checkbox\" ><label class=\"sk-toggleable__label\" for=\"d806b0be-2760-4b9b-923a-1bcfa2bc80c7\">numeric</label><div class=\"sk-toggleable__content\"><pre>['CreditScore', 'Age', 'Tenure', 'Balance', 'NumOfProducts', 'EstimatedSalary']</pre></div></div></div><div class=\"sk-serial\"><div class=\"sk-item\"><div class=\"sk-serial\"><div class=\"sk-item\"><div class=\"sk-estimator sk-toggleable\"><input class=\"sk-toggleable__control sk-hidden--visually\" id=\"127b50b5-4814-474f-b313-f4ae21f06219\" type=\"checkbox\" ><label class=\"sk-toggleable__label\" for=\"127b50b5-4814-474f-b313-f4ae21f06219\">SimpleImputer</label><div class=\"sk-toggleable__content\"><pre>SimpleImputer(strategy='median')</pre></div></div></div><div class=\"sk-item\"><div class=\"sk-estimator sk-toggleable\"><input class=\"sk-toggleable__control sk-hidden--visually\" id=\"c006ded4-06b9-4440-bfc7-fdcbec47c6fc\" type=\"checkbox\" ><label class=\"sk-toggleable__label\" for=\"c006ded4-06b9-4440-bfc7-fdcbec47c6fc\">StandardScaler</label><div class=\"sk-toggleable__content\"><pre>StandardScaler()</pre></div></div></div></div></div></div></div></div><div class=\"sk-parallel-item\"><div class=\"sk-item\"><div class=\"sk-label-container\"><div class=\"sk-label sk-toggleable\"><input class=\"sk-toggleable__control sk-hidden--visually\" id=\"c8e22ec0-ca22-4a45-85f0-aab2a0ab6e17\" type=\"checkbox\" ><label class=\"sk-toggleable__label\" for=\"c8e22ec0-ca22-4a45-85f0-aab2a0ab6e17\">categorical</label><div class=\"sk-toggleable__content\"><pre>['Gender', 'Geography', 'HasCrCard', 'IsActiveMember']</pre></div></div></div><div class=\"sk-serial\"><div class=\"sk-item\"><div class=\"sk-serial\"><div class=\"sk-item\"><div class=\"sk-estimator sk-toggleable\"><input class=\"sk-toggleable__control sk-hidden--visually\" id=\"df409846-681b-485f-8a01-92bc3f9f05c3\" type=\"checkbox\" ><label class=\"sk-toggleable__label\" for=\"df409846-681b-485f-8a01-92bc3f9f05c3\">SimpleImputer</label><div class=\"sk-toggleable__content\"><pre>SimpleImputer(strategy='most_frequent')</pre></div></div></div><div class=\"sk-item\"><div class=\"sk-estimator sk-toggleable\"><input class=\"sk-toggleable__control sk-hidden--visually\" id=\"61b9efe0-7c8a-421a-b62f-1f99d4c3798d\" type=\"checkbox\" ><label class=\"sk-toggleable__label\" for=\"61b9efe0-7c8a-421a-b62f-1f99d4c3798d\">OneHotEncoder</label><div class=\"sk-toggleable__content\"><pre>OneHotEncoder(handle_unknown='ignore', sparse=False)</pre></div></div></div></div></div></div></div></div></div></div><div class=\"sk-item\"><div class=\"sk-estimator sk-toggleable\"><input class=\"sk-toggleable__control sk-hidden--visually\" id=\"081acdcb-7ba0-4b4f-8243-47e535b079a3\" type=\"checkbox\" ><label class=\"sk-toggleable__label\" for=\"081acdcb-7ba0-4b4f-8243-47e535b079a3\">LogisticRegression</label><div class=\"sk-toggleable__content\"><pre>LogisticRegression(class_weight='balanced', fit_intercept=False, n_jobs=-1,\n                   random_state=42)</pre></div></div></div></div></div></div></div>"
     },
     "execution_count": 39,
     "metadata": {},
     "output_type": "execute_result"
    }
   ],
   "source": [
    "lr_cv.best_estimator_"
   ],
   "metadata": {
    "collapsed": false,
    "pycharm": {
     "name": "#%%\n"
    }
   }
  },
  {
   "cell_type": "code",
   "execution_count": 40,
   "outputs": [
    {
     "data": {
      "text/plain": "0.7574748408356442"
     },
     "execution_count": 40,
     "metadata": {},
     "output_type": "execute_result"
    }
   ],
   "source": [
    "lr_cv.best_score_"
   ],
   "metadata": {
    "collapsed": false,
    "pycharm": {
     "name": "#%%\n"
    }
   }
  },
  {
   "cell_type": "code",
   "execution_count": 41,
   "outputs": [
    {
     "data": {
      "text/plain": "              precision  recall  f1-score  support\n0                  0.91    0.72      0.80  2389.00\n1                  0.40    0.73      0.51   611.00\naccuracy           0.72    0.72      0.72     0.72\nmacro avg          0.65    0.72      0.66  3000.00\nweighted avg       0.81    0.72      0.74  3000.00",
      "text/html": "<div>\n<style scoped>\n    .dataframe tbody tr th:only-of-type {\n        vertical-align: middle;\n    }\n\n    .dataframe tbody tr th {\n        vertical-align: top;\n    }\n\n    .dataframe thead th {\n        text-align: right;\n    }\n</style>\n<table border=\"1\" class=\"dataframe\">\n  <thead>\n    <tr style=\"text-align: right;\">\n      <th></th>\n      <th>precision</th>\n      <th>recall</th>\n      <th>f1-score</th>\n      <th>support</th>\n    </tr>\n  </thead>\n  <tbody>\n    <tr>\n      <th>0</th>\n      <td>0.91</td>\n      <td>0.72</td>\n      <td>0.80</td>\n      <td>2389.00</td>\n    </tr>\n    <tr>\n      <th>1</th>\n      <td>0.40</td>\n      <td>0.73</td>\n      <td>0.51</td>\n      <td>611.00</td>\n    </tr>\n    <tr>\n      <th>accuracy</th>\n      <td>0.72</td>\n      <td>0.72</td>\n      <td>0.72</td>\n      <td>0.72</td>\n    </tr>\n    <tr>\n      <th>macro avg</th>\n      <td>0.65</td>\n      <td>0.72</td>\n      <td>0.66</td>\n      <td>3000.00</td>\n    </tr>\n    <tr>\n      <th>weighted avg</th>\n      <td>0.81</td>\n      <td>0.72</td>\n      <td>0.74</td>\n      <td>3000.00</td>\n    </tr>\n  </tbody>\n</table>\n</div>"
     },
     "execution_count": 41,
     "metadata": {},
     "output_type": "execute_result"
    }
   ],
   "source": [
    "evaluation = ModelEvaluation(observed=test_label, predicted=lr_cv.predict(test_data))\n",
    "evaluation.generate_report()"
   ],
   "metadata": {
    "collapsed": false,
    "pycharm": {
     "name": "#%%\n"
    }
   }
  },
  {
   "cell_type": "code",
   "execution_count": 42,
   "outputs": [
    {
     "name": "stdout",
     "output_type": "stream",
     "text": [
      "El AUC es: 0.72\n",
      "El accuracy es: 0.72\n",
      "La precision es: 0.81\n",
      "El recall es: 0.72\n",
      "El F1 Score es: 0.74 \n",
      "\n"
     ]
    },
    {
     "data": {
      "text/plain": "Predicted    0    1\nObserved           \n0         0.72 0.28\n1         0.27 0.73",
      "text/html": "<div>\n<style scoped>\n    .dataframe tbody tr th:only-of-type {\n        vertical-align: middle;\n    }\n\n    .dataframe tbody tr th {\n        vertical-align: top;\n    }\n\n    .dataframe thead th {\n        text-align: right;\n    }\n</style>\n<table border=\"1\" class=\"dataframe\">\n  <thead>\n    <tr style=\"text-align: right;\">\n      <th>Predicted</th>\n      <th>0</th>\n      <th>1</th>\n    </tr>\n    <tr>\n      <th>Observed</th>\n      <th></th>\n      <th></th>\n    </tr>\n  </thead>\n  <tbody>\n    <tr>\n      <th>0</th>\n      <td>0.72</td>\n      <td>0.28</td>\n    </tr>\n    <tr>\n      <th>1</th>\n      <td>0.27</td>\n      <td>0.73</td>\n    </tr>\n  </tbody>\n</table>\n</div>"
     },
     "execution_count": 42,
     "metadata": {},
     "output_type": "execute_result"
    }
   ],
   "source": [
    "evaluation.calculate_metrics()\n",
    "evaluation.print_metrics()\n",
    "evaluation.confusion_matrix()"
   ],
   "metadata": {
    "collapsed": false,
    "pycharm": {
     "name": "#%%\n"
    }
   }
  },
  {
   "cell_type": "code",
   "execution_count": 43,
   "outputs": [
    {
     "data": {
      "text/plain": "RandomizedSearchCV(cv=5,\n                   estimator=Pipeline(steps=[('preprocessing',\n                                              ColumnTransformer(transformers=[('numeric',\n                                                                               Pipeline(steps=[('imputer',\n                                                                                                SimpleImputer(strategy='median')),\n                                                                                               ('scaler',\n                                                                                                StandardScaler())]),\n                                                                               ['CreditScore',\n                                                                                'Age',\n                                                                                'Tenure',\n                                                                                'Balance',\n                                                                                'NumOfProducts',\n                                                                                'EstimatedSalary']),\n                                                                              ('categorical',\n                                                                               Pipeline(steps=[('cat_imputer',\n                                                                                                SimpleImputer(strategy='mos...\n                                                                                                              sparse=False))]),\n                                                                               ['Gender',\n                                                                                'Geography',\n                                                                                'HasCrCard',\n                                                                                'IsActiveMember'])])),\n                                             ('logistic_regression',\n                                              LogisticRegression(n_jobs=-1,\n                                                                 random_state=42))]),\n                   n_iter=4, n_jobs=-1,\n                   param_distributions={'logistic_regression__class_weight': ['balanced',\n                                                                              None],\n                                        'logistic_regression__fit_intercept': [True,\n                                                                               False],\n                                        'logistic_regression__penalty': ['l1',\n                                                                         'l2']},\n                   scoring='roc_auc')",
      "text/html": "<style>div.sk-top-container {color: black;background-color: white;}div.sk-toggleable {background-color: white;}label.sk-toggleable__label {cursor: pointer;display: block;width: 100%;margin-bottom: 0;padding: 0.2em 0.3em;box-sizing: border-box;text-align: center;}div.sk-toggleable__content {max-height: 0;max-width: 0;overflow: hidden;text-align: left;background-color: #f0f8ff;}div.sk-toggleable__content pre {margin: 0.2em;color: black;border-radius: 0.25em;background-color: #f0f8ff;}input.sk-toggleable__control:checked~div.sk-toggleable__content {max-height: 200px;max-width: 100%;overflow: auto;}div.sk-estimator input.sk-toggleable__control:checked~label.sk-toggleable__label {background-color: #d4ebff;}div.sk-label input.sk-toggleable__control:checked~label.sk-toggleable__label {background-color: #d4ebff;}input.sk-hidden--visually {border: 0;clip: rect(1px 1px 1px 1px);clip: rect(1px, 1px, 1px, 1px);height: 1px;margin: -1px;overflow: hidden;padding: 0;position: absolute;width: 1px;}div.sk-estimator {font-family: monospace;background-color: #f0f8ff;margin: 0.25em 0.25em;border: 1px dotted black;border-radius: 0.25em;box-sizing: border-box;}div.sk-estimator:hover {background-color: #d4ebff;}div.sk-parallel-item::after {content: \"\";width: 100%;border-bottom: 1px solid gray;flex-grow: 1;}div.sk-label:hover label.sk-toggleable__label {background-color: #d4ebff;}div.sk-serial::before {content: \"\";position: absolute;border-left: 1px solid gray;box-sizing: border-box;top: 2em;bottom: 0;left: 50%;}div.sk-serial {display: flex;flex-direction: column;align-items: center;background-color: white;}div.sk-item {z-index: 1;}div.sk-parallel {display: flex;align-items: stretch;justify-content: center;background-color: white;}div.sk-parallel-item {display: flex;flex-direction: column;position: relative;background-color: white;}div.sk-parallel-item:first-child::after {align-self: flex-end;width: 50%;}div.sk-parallel-item:last-child::after {align-self: flex-start;width: 50%;}div.sk-parallel-item:only-child::after {width: 0;}div.sk-dashed-wrapped {border: 1px dashed gray;margin: 0.2em;box-sizing: border-box;padding-bottom: 0.1em;background-color: white;position: relative;}div.sk-label label {font-family: monospace;font-weight: bold;background-color: white;display: inline-block;line-height: 1.2em;}div.sk-label-container {position: relative;z-index: 2;text-align: center;}div.sk-container {display: inline-block;position: relative;}</style><div class=\"sk-top-container\"><div class=\"sk-container\"><div class=\"sk-item sk-dashed-wrapped\"><div class=\"sk-label-container\"><div class=\"sk-label sk-toggleable\"><input class=\"sk-toggleable__control sk-hidden--visually\" id=\"8d48d4cb-f466-44d2-b4fb-c13d1fc1f1b8\" type=\"checkbox\" ><label class=\"sk-toggleable__label\" for=\"8d48d4cb-f466-44d2-b4fb-c13d1fc1f1b8\">RandomizedSearchCV</label><div class=\"sk-toggleable__content\"><pre>RandomizedSearchCV(cv=5,\n                   estimator=Pipeline(steps=[('preprocessing',\n                                              ColumnTransformer(transformers=[('numeric',\n                                                                               Pipeline(steps=[('imputer',\n                                                                                                SimpleImputer(strategy='median')),\n                                                                                               ('scaler',\n                                                                                                StandardScaler())]),\n                                                                               ['CreditScore',\n                                                                                'Age',\n                                                                                'Tenure',\n                                                                                'Balance',\n                                                                                'NumOfProducts',\n                                                                                'EstimatedSalary']),\n                                                                              ('categorical',\n                                                                               Pipeline(steps=[('cat_imputer',\n                                                                                                SimpleImputer(strategy='mos...\n                                                                                                              sparse=False))]),\n                                                                               ['Gender',\n                                                                                'Geography',\n                                                                                'HasCrCard',\n                                                                                'IsActiveMember'])])),\n                                             ('logistic_regression',\n                                              LogisticRegression(n_jobs=-1,\n                                                                 random_state=42))]),\n                   n_iter=4, n_jobs=-1,\n                   param_distributions={'logistic_regression__class_weight': ['balanced',\n                                                                              None],\n                                        'logistic_regression__fit_intercept': [True,\n                                                                               False],\n                                        'logistic_regression__penalty': ['l1',\n                                                                         'l2']},\n                   scoring='roc_auc')</pre></div></div></div><div class=\"sk-parallel\"><div class=\"sk-parallel-item\"><div class=\"sk-item\"><div class=\"sk-serial\"><div class=\"sk-item\"><div class=\"sk-serial\"><div class=\"sk-item sk-dashed-wrapped\"><div class=\"sk-label-container\"><div class=\"sk-label sk-toggleable\"><input class=\"sk-toggleable__control sk-hidden--visually\" id=\"3b7adc7b-2e7b-4847-b925-8e0d1c214698\" type=\"checkbox\" ><label class=\"sk-toggleable__label\" for=\"3b7adc7b-2e7b-4847-b925-8e0d1c214698\">preprocessing: ColumnTransformer</label><div class=\"sk-toggleable__content\"><pre>ColumnTransformer(transformers=[('numeric',\n                                 Pipeline(steps=[('imputer',\n                                                  SimpleImputer(strategy='median')),\n                                                 ('scaler', StandardScaler())]),\n                                 ['CreditScore', 'Age', 'Tenure', 'Balance',\n                                  'NumOfProducts', 'EstimatedSalary']),\n                                ('categorical',\n                                 Pipeline(steps=[('cat_imputer',\n                                                  SimpleImputer(strategy='most_frequent')),\n                                                 ('ohe',\n                                                  OneHotEncoder(handle_unknown='ignore',\n                                                                sparse=False))]),\n                                 ['Gender', 'Geography', 'HasCrCard',\n                                  'IsActiveMember'])])</pre></div></div></div><div class=\"sk-parallel\"><div class=\"sk-parallel-item\"><div class=\"sk-item\"><div class=\"sk-label-container\"><div class=\"sk-label sk-toggleable\"><input class=\"sk-toggleable__control sk-hidden--visually\" id=\"109096d1-eba3-4058-9bb7-3d101999d5ef\" type=\"checkbox\" ><label class=\"sk-toggleable__label\" for=\"109096d1-eba3-4058-9bb7-3d101999d5ef\">numeric</label><div class=\"sk-toggleable__content\"><pre>['CreditScore', 'Age', 'Tenure', 'Balance', 'NumOfProducts', 'EstimatedSalary']</pre></div></div></div><div class=\"sk-serial\"><div class=\"sk-item\"><div class=\"sk-serial\"><div class=\"sk-item\"><div class=\"sk-estimator sk-toggleable\"><input class=\"sk-toggleable__control sk-hidden--visually\" id=\"24a37494-6424-45bf-acc3-2a718794c437\" type=\"checkbox\" ><label class=\"sk-toggleable__label\" for=\"24a37494-6424-45bf-acc3-2a718794c437\">SimpleImputer</label><div class=\"sk-toggleable__content\"><pre>SimpleImputer(strategy='median')</pre></div></div></div><div class=\"sk-item\"><div class=\"sk-estimator sk-toggleable\"><input class=\"sk-toggleable__control sk-hidden--visually\" id=\"a27d8ef4-d0e8-4a8c-93a3-2a471057629b\" type=\"checkbox\" ><label class=\"sk-toggleable__label\" for=\"a27d8ef4-d0e8-4a8c-93a3-2a471057629b\">StandardScaler</label><div class=\"sk-toggleable__content\"><pre>StandardScaler()</pre></div></div></div></div></div></div></div></div><div class=\"sk-parallel-item\"><div class=\"sk-item\"><div class=\"sk-label-container\"><div class=\"sk-label sk-toggleable\"><input class=\"sk-toggleable__control sk-hidden--visually\" id=\"e732de4e-e7de-4b29-adf5-69e32671b294\" type=\"checkbox\" ><label class=\"sk-toggleable__label\" for=\"e732de4e-e7de-4b29-adf5-69e32671b294\">categorical</label><div class=\"sk-toggleable__content\"><pre>['Gender', 'Geography', 'HasCrCard', 'IsActiveMember']</pre></div></div></div><div class=\"sk-serial\"><div class=\"sk-item\"><div class=\"sk-serial\"><div class=\"sk-item\"><div class=\"sk-estimator sk-toggleable\"><input class=\"sk-toggleable__control sk-hidden--visually\" id=\"905f2b9d-fd89-440d-b2c9-6e311796ac05\" type=\"checkbox\" ><label class=\"sk-toggleable__label\" for=\"905f2b9d-fd89-440d-b2c9-6e311796ac05\">SimpleImputer</label><div class=\"sk-toggleable__content\"><pre>SimpleImputer(strategy='most_frequent')</pre></div></div></div><div class=\"sk-item\"><div class=\"sk-estimator sk-toggleable\"><input class=\"sk-toggleable__control sk-hidden--visually\" id=\"92a00b30-8900-4b22-9cb0-12fbf4c518e9\" type=\"checkbox\" ><label class=\"sk-toggleable__label\" for=\"92a00b30-8900-4b22-9cb0-12fbf4c518e9\">OneHotEncoder</label><div class=\"sk-toggleable__content\"><pre>OneHotEncoder(handle_unknown='ignore', sparse=False)</pre></div></div></div></div></div></div></div></div></div></div><div class=\"sk-item\"><div class=\"sk-estimator sk-toggleable\"><input class=\"sk-toggleable__control sk-hidden--visually\" id=\"fcf14792-065f-4ba3-83cf-0a78cd9b984c\" type=\"checkbox\" ><label class=\"sk-toggleable__label\" for=\"fcf14792-065f-4ba3-83cf-0a78cd9b984c\">LogisticRegression</label><div class=\"sk-toggleable__content\"><pre>LogisticRegression(n_jobs=-1, random_state=42)</pre></div></div></div></div></div></div></div></div></div></div></div></div>"
     },
     "execution_count": 43,
     "metadata": {},
     "output_type": "execute_result"
    }
   ],
   "source": [
    "params = {'logistic_regression__penalty': ['l1', 'l2'],\n",
    "          'logistic_regression__fit_intercept': [True, False],\n",
    "          'logistic_regression__class_weight': ['balanced', None]}\n",
    "\n",
    "lr = Pipeline(steps=[('preprocessing', preprocessing),\n",
    "                     ('logistic_regression', LogisticRegression(random_state=42, n_jobs=-1))])\n",
    "\n",
    "lr_cv = RandomizedSearchCV(estimator=lr, param_distributions=params,\n",
    "                           n_iter=4, scoring='roc_auc', n_jobs=-1, cv=5)\n",
    "\n",
    "lr_cv.fit(train_data, train_label)"
   ],
   "metadata": {
    "collapsed": false,
    "pycharm": {
     "name": "#%%\n"
    }
   }
  },
  {
   "cell_type": "code",
   "execution_count": 44,
   "outputs": [
    {
     "data": {
      "text/plain": "{'logistic_regression__penalty': 'l2',\n 'logistic_regression__fit_intercept': True,\n 'logistic_regression__class_weight': None}"
     },
     "execution_count": 44,
     "metadata": {},
     "output_type": "execute_result"
    }
   ],
   "source": [
    "lr_cv.best_params_"
   ],
   "metadata": {
    "collapsed": false,
    "pycharm": {
     "name": "#%%\n"
    }
   }
  },
  {
   "cell_type": "code",
   "execution_count": 45,
   "outputs": [
    {
     "data": {
      "text/plain": "0.7544958649890022"
     },
     "execution_count": 45,
     "metadata": {},
     "output_type": "execute_result"
    }
   ],
   "source": [
    "lr_cv.best_score_"
   ],
   "metadata": {
    "collapsed": false,
    "pycharm": {
     "name": "#%%\n"
    }
   }
  },
  {
   "cell_type": "code",
   "execution_count": 46,
   "outputs": [
    {
     "data": {
      "text/plain": "              precision  recall  f1-score  support\n0                  0.83    0.97      0.89  2389.00\n1                  0.63    0.20      0.30   611.00\naccuracy           0.81    0.81      0.81     0.81\nmacro avg          0.73    0.58      0.60  3000.00\nweighted avg       0.79    0.81      0.77  3000.00",
      "text/html": "<div>\n<style scoped>\n    .dataframe tbody tr th:only-of-type {\n        vertical-align: middle;\n    }\n\n    .dataframe tbody tr th {\n        vertical-align: top;\n    }\n\n    .dataframe thead th {\n        text-align: right;\n    }\n</style>\n<table border=\"1\" class=\"dataframe\">\n  <thead>\n    <tr style=\"text-align: right;\">\n      <th></th>\n      <th>precision</th>\n      <th>recall</th>\n      <th>f1-score</th>\n      <th>support</th>\n    </tr>\n  </thead>\n  <tbody>\n    <tr>\n      <th>0</th>\n      <td>0.83</td>\n      <td>0.97</td>\n      <td>0.89</td>\n      <td>2389.00</td>\n    </tr>\n    <tr>\n      <th>1</th>\n      <td>0.63</td>\n      <td>0.20</td>\n      <td>0.30</td>\n      <td>611.00</td>\n    </tr>\n    <tr>\n      <th>accuracy</th>\n      <td>0.81</td>\n      <td>0.81</td>\n      <td>0.81</td>\n      <td>0.81</td>\n    </tr>\n    <tr>\n      <th>macro avg</th>\n      <td>0.73</td>\n      <td>0.58</td>\n      <td>0.60</td>\n      <td>3000.00</td>\n    </tr>\n    <tr>\n      <th>weighted avg</th>\n      <td>0.79</td>\n      <td>0.81</td>\n      <td>0.77</td>\n      <td>3000.00</td>\n    </tr>\n  </tbody>\n</table>\n</div>"
     },
     "execution_count": 46,
     "metadata": {},
     "output_type": "execute_result"
    }
   ],
   "source": [
    "evaluation = ModelEvaluation(observed=test_label, predicted=lr_cv.predict(test_data))\n",
    "evaluation.generate_report()"
   ],
   "metadata": {
    "collapsed": false,
    "pycharm": {
     "name": "#%%\n"
    }
   }
  },
  {
   "cell_type": "code",
   "execution_count": 47,
   "outputs": [
    {
     "name": "stdout",
     "output_type": "stream",
     "text": [
      "El AUC es: 0.58\n",
      "El accuracy es: 0.81\n",
      "La precision es: 0.79\n",
      "El recall es: 0.81\n",
      "El F1 Score es: 0.77 \n",
      "\n"
     ]
    },
    {
     "data": {
      "text/plain": "Predicted    0    1\nObserved           \n0         0.97 0.03\n1         0.80 0.20",
      "text/html": "<div>\n<style scoped>\n    .dataframe tbody tr th:only-of-type {\n        vertical-align: middle;\n    }\n\n    .dataframe tbody tr th {\n        vertical-align: top;\n    }\n\n    .dataframe thead th {\n        text-align: right;\n    }\n</style>\n<table border=\"1\" class=\"dataframe\">\n  <thead>\n    <tr style=\"text-align: right;\">\n      <th>Predicted</th>\n      <th>0</th>\n      <th>1</th>\n    </tr>\n    <tr>\n      <th>Observed</th>\n      <th></th>\n      <th></th>\n    </tr>\n  </thead>\n  <tbody>\n    <tr>\n      <th>0</th>\n      <td>0.97</td>\n      <td>0.03</td>\n    </tr>\n    <tr>\n      <th>1</th>\n      <td>0.80</td>\n      <td>0.20</td>\n    </tr>\n  </tbody>\n</table>\n</div>"
     },
     "execution_count": 47,
     "metadata": {},
     "output_type": "execute_result"
    }
   ],
   "source": [
    "evaluation.calculate_metrics()\n",
    "evaluation.print_metrics()\n",
    "evaluation.confusion_matrix()"
   ],
   "metadata": {
    "collapsed": false,
    "pycharm": {
     "name": "#%%\n"
    }
   }
  },
  {
   "cell_type": "code",
   "execution_count": null,
   "outputs": [],
   "source": [],
   "metadata": {
    "collapsed": false,
    "pycharm": {
     "name": "#%%\n"
    }
   }
  }
 ],
 "metadata": {
  "kernelspec": {
   "display_name": "Python 3",
   "language": "python",
   "name": "python3"
  },
  "language_info": {
   "codemirror_mode": {
    "name": "ipython",
    "version": 2
   },
   "file_extension": ".py",
   "mimetype": "text/x-python",
   "name": "python",
   "nbconvert_exporter": "python",
   "pygments_lexer": "ipython2",
   "version": "2.7.6"
  }
 },
 "nbformat": 4,
 "nbformat_minor": 0
}